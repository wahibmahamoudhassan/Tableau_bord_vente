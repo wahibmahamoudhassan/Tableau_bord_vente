{
 "cells": [
  {
   "cell_type": "code",
   "execution_count": 1,
   "metadata": {},
   "outputs": [],
   "source": [
    "# Les Bibliothèques \n",
    "import pandas as pd # Manipulation des données\n",
    "\n",
    "import numpy as np  # Calculs mathématiques avancés\n",
    "\n",
    "# Visualisation\n",
    "import matplotlib.pyplot as plt  # Graphiques basiques\n",
    "import seaborn as sns  # Graphiques avancés et personnalisés\n",
    "import plotly.express as px  # Graphiques interactifs (si installé)\n",
    "\n",
    "import cufflinks as cf"
   ]
  },
  {
   "cell_type": "code",
   "execution_count": 2,
   "metadata": {},
   "outputs": [],
   "source": [
    "# Charger la base de données\n",
    "df = pd.read_csv('C:/Users/karriah dini/Downloads/Nouveau dossier/B_F.csv', sep =\";\")  # Nom de votre fichier CSV\n"
   ]
  },
  {
   "cell_type": "code",
   "execution_count": 3,
   "metadata": {},
   "outputs": [
    {
     "name": "stdout",
     "output_type": "stream",
     "text": [
      "<bound method NDFrame.head of         index        Date    Year     Month  Customer Age Customer Gender  \\\n",
      "121958  14192  10/26/2015  2015.0   October          54.0               M   \n",
      "146867  17096   5/25/2015  2015.0       May          46.0               F   \n",
      "131932  15345  04/10/2016  2016.0     April          30.0               F   \n",
      "259178  30065   1/31/2016  2016.0   January          49.0               F   \n",
      "119879  13945   3/14/2016  2016.0     March          35.0               M   \n",
      "...       ...         ...     ...       ...           ...             ...   \n",
      "226042  26225   3/15/2016  2016.0     March          32.0               M   \n",
      "102394  11910  12/06/2015  2015.0  December          42.0               M   \n",
      "162226  18888  12/02/2015  2015.0  December          51.0               F   \n",
      "65735    7657   8/14/2015  2015.0    August          46.0               M   \n",
      "116555  13554   2/14/2016  2016.0  February          48.0               M   \n",
      "\n",
      "              Country                State Product Category  \\\n",
      "121958  United States           California      Accessories   \n",
      "146867  United States           California            Bikes   \n",
      "131932        Germany               Hessen            Bikes   \n",
      "259178  United States           California            Bikes   \n",
      "119879  United States           California      Accessories   \n",
      "...               ...                  ...              ...   \n",
      "226042        Germany  Nordrhein-Westfalen      Accessories   \n",
      "102394  United States           California      Accessories   \n",
      "162226  United States           California         Clothing   \n",
      "65735   United States           California            Bikes   \n",
      "116555  United States           California      Accessories   \n",
      "\n",
      "             Sub Category  Quantity  Unit Cost   Unit Price    Cost  Revenue  \\\n",
      "121958    Tires and Tubes       3.0      28.00    31.333333    84.0     94.0   \n",
      "146867         Road Bikes       3.0     261.00   216.000000   783.0    648.0   \n",
      "131932     Mountain Bikes       3.0     765.00   902.333333  2295.0   2707.0   \n",
      "259178      Touring Bikes       3.0     794.67   952.666667  2384.0   2858.0   \n",
      "119879  Bottles and Cages       3.0      96.67   110.333333   290.0    331.0   \n",
      "...                   ...       ...        ...          ...     ...      ...   \n",
      "226042  Bottles and Cages       1.0     216.00   293.000000   216.0    293.0   \n",
      "102394    Tires and Tubes       3.0      33.33    38.000000   100.0    114.0   \n",
      "162226            Jerseys       1.0     200.00   220.000000   200.0    220.0   \n",
      "65735      Mountain Bikes       1.0    2295.00  2152.000000  2295.0   2152.0   \n",
      "116555    Tires and Tubes       1.0     280.00   356.000000   280.0    356.0   \n",
      "\n",
      "        Column1  \n",
      "121958      NaN  \n",
      "146867      NaN  \n",
      "131932      NaN  \n",
      "259178      NaN  \n",
      "119879      NaN  \n",
      "...         ...  \n",
      "226042      NaN  \n",
      "102394      NaN  \n",
      "162226      NaN  \n",
      "65735       NaN  \n",
      "116555      NaN  \n",
      "\n",
      "[300000 rows x 16 columns]>\n"
     ]
    }
   ],
   "source": [
    "\n",
    "# Effectuer le bootstrap pour atteindre 200,000 lignes\n",
    "n_lignes = 300000  # Nombre de lignes souhaitées\n",
    "base_bootstrap = df.sample(n=n_lignes, replace=True, random_state=42)\n",
    "\n",
    "# Enregistrer la base résultante dans un nouveau fichier CSV\n",
    "#fichier_sortie = \"base_bootstrap.csv\"\n",
    "#base_bootstrap.to_csv(fichier_sortie, index=False)\n",
    "\n",
    "print(base_bootstrap.head)"
   ]
  },
  {
   "cell_type": "code",
   "execution_count": 4,
   "metadata": {},
   "outputs": [
    {
     "name": "stdout",
     "output_type": "stream",
     "text": [
      "        index       Date    Year     Month  Customer Age Customer Gender  \\\n",
      "1           0  2/19/2016  2016.0  February          29.0               F   \n",
      "3           0  2/19/2016  2016.0  February          29.0               F   \n",
      "4           0  2/19/2016  2016.0  February          29.0               F   \n",
      "4           0  2/19/2016  2016.0  February          29.0               F   \n",
      "5           1  2/20/2016  2016.0  February          29.0               F   \n",
      "...       ...        ...     ...       ...           ...             ...   \n",
      "299995  34866        NaN     NaN       NaN           NaN             NaN   \n",
      "299995  34866        NaN     NaN       NaN           NaN             NaN   \n",
      "299996  34866        NaN     NaN       NaN           NaN             NaN   \n",
      "299999  34866        NaN     NaN       NaN           NaN             NaN   \n",
      "299999  34866        NaN     NaN       NaN           NaN             NaN   \n",
      "\n",
      "              Country       State Product Category     Sub Category  Quantity  \\\n",
      "1       United States  Washington      Accessories  Tires and Tubes       1.0   \n",
      "3       United States  Washington      Accessories  Tires and Tubes       1.0   \n",
      "4       United States  Washington      Accessories  Tires and Tubes       1.0   \n",
      "4       United States  Washington      Accessories  Tires and Tubes       1.0   \n",
      "5       United States  Washington         Clothing           Gloves       2.0   \n",
      "...               ...         ...              ...              ...       ...   \n",
      "299995            NaN         NaN              NaN              NaN       NaN   \n",
      "299995            NaN         NaN              NaN              NaN       NaN   \n",
      "299996            NaN         NaN              NaN              NaN       NaN   \n",
      "299999            NaN         NaN              NaN              NaN       NaN   \n",
      "299999            NaN         NaN              NaN              NaN       NaN   \n",
      "\n",
      "        Unit Cost  Unit Price  Cost     Revenue  Column1  \n",
      "1            80.0       109.0  80.0  109.000000      NaN  \n",
      "3            80.0       109.0  80.0  109.000000      NaN  \n",
      "4            80.0       109.0  80.0  109.000000      NaN  \n",
      "4            80.0       109.0  80.0  109.000000      NaN  \n",
      "5            24.5        28.5  49.0   57.000000      NaN  \n",
      "...           ...         ...   ...         ...      ...  \n",
      "299995        NaN         NaN   NaN  641.532095      NaN  \n",
      "299995        NaN         NaN   NaN  641.532095      NaN  \n",
      "299996        NaN         NaN   NaN  641.532095      NaN  \n",
      "299999        NaN         NaN   NaN  641.532095      NaN  \n",
      "299999        NaN         NaN   NaN  641.532095      NaN  \n",
      "\n",
      "[300000 rows x 16 columns]\n"
     ]
    }
   ],
   "source": [
    "base_bootstrap = base_bootstrap.sort_index(ascending=True)\n",
    "print(base_bootstrap) "
   ]
  },
  {
   "cell_type": "code",
   "execution_count": 5,
   "metadata": {},
   "outputs": [],
   "source": [
    "   # importer les base\n",
    "df = pd.read_csv('C:/Users/karriah dini/Downloads/Nouveau dossier/B_F.csv', sep =\";\")"
   ]
  },
  {
   "cell_type": "code",
   "execution_count": 6,
   "metadata": {},
   "outputs": [
    {
     "data": {
      "text/html": [
       "<div>\n",
       "<style scoped>\n",
       "    .dataframe tbody tr th:only-of-type {\n",
       "        vertical-align: middle;\n",
       "    }\n",
       "\n",
       "    .dataframe tbody tr th {\n",
       "        vertical-align: top;\n",
       "    }\n",
       "\n",
       "    .dataframe thead th {\n",
       "        text-align: right;\n",
       "    }\n",
       "</style>\n",
       "<table border=\"1\" class=\"dataframe\">\n",
       "  <thead>\n",
       "    <tr style=\"text-align: right;\">\n",
       "      <th></th>\n",
       "      <th>index</th>\n",
       "      <th>Date</th>\n",
       "      <th>Year</th>\n",
       "      <th>Month</th>\n",
       "      <th>Customer Age</th>\n",
       "      <th>Customer Gender</th>\n",
       "      <th>Country</th>\n",
       "      <th>State</th>\n",
       "      <th>Product Category</th>\n",
       "      <th>Sub Category</th>\n",
       "      <th>Quantity</th>\n",
       "      <th>Unit Cost</th>\n",
       "      <th>Unit Price</th>\n",
       "      <th>Cost</th>\n",
       "      <th>Revenue</th>\n",
       "      <th>Column1</th>\n",
       "    </tr>\n",
       "  </thead>\n",
       "  <tbody>\n",
       "    <tr>\n",
       "      <th>0</th>\n",
       "      <td>0</td>\n",
       "      <td>2/19/2016</td>\n",
       "      <td>2016.0</td>\n",
       "      <td>February</td>\n",
       "      <td>29.0</td>\n",
       "      <td>F</td>\n",
       "      <td>United States</td>\n",
       "      <td>Washington</td>\n",
       "      <td>Accessories</td>\n",
       "      <td>Tires and Tubes</td>\n",
       "      <td>1.0</td>\n",
       "      <td>80.0</td>\n",
       "      <td>109.0</td>\n",
       "      <td>80.0</td>\n",
       "      <td>109.000000</td>\n",
       "      <td>NaN</td>\n",
       "    </tr>\n",
       "    <tr>\n",
       "      <th>1</th>\n",
       "      <td>0</td>\n",
       "      <td>2/19/2016</td>\n",
       "      <td>2016.0</td>\n",
       "      <td>February</td>\n",
       "      <td>29.0</td>\n",
       "      <td>F</td>\n",
       "      <td>United States</td>\n",
       "      <td>Washington</td>\n",
       "      <td>Accessories</td>\n",
       "      <td>Tires and Tubes</td>\n",
       "      <td>1.0</td>\n",
       "      <td>80.0</td>\n",
       "      <td>109.0</td>\n",
       "      <td>80.0</td>\n",
       "      <td>109.000000</td>\n",
       "      <td>NaN</td>\n",
       "    </tr>\n",
       "    <tr>\n",
       "      <th>2</th>\n",
       "      <td>0</td>\n",
       "      <td>2/19/2016</td>\n",
       "      <td>2016.0</td>\n",
       "      <td>February</td>\n",
       "      <td>29.0</td>\n",
       "      <td>F</td>\n",
       "      <td>United States</td>\n",
       "      <td>Washington</td>\n",
       "      <td>Accessories</td>\n",
       "      <td>Tires and Tubes</td>\n",
       "      <td>1.0</td>\n",
       "      <td>80.0</td>\n",
       "      <td>109.0</td>\n",
       "      <td>80.0</td>\n",
       "      <td>109.000000</td>\n",
       "      <td>NaN</td>\n",
       "    </tr>\n",
       "    <tr>\n",
       "      <th>3</th>\n",
       "      <td>0</td>\n",
       "      <td>2/19/2016</td>\n",
       "      <td>2016.0</td>\n",
       "      <td>February</td>\n",
       "      <td>29.0</td>\n",
       "      <td>F</td>\n",
       "      <td>United States</td>\n",
       "      <td>Washington</td>\n",
       "      <td>Accessories</td>\n",
       "      <td>Tires and Tubes</td>\n",
       "      <td>1.0</td>\n",
       "      <td>80.0</td>\n",
       "      <td>109.0</td>\n",
       "      <td>80.0</td>\n",
       "      <td>109.000000</td>\n",
       "      <td>NaN</td>\n",
       "    </tr>\n",
       "    <tr>\n",
       "      <th>4</th>\n",
       "      <td>0</td>\n",
       "      <td>2/19/2016</td>\n",
       "      <td>2016.0</td>\n",
       "      <td>February</td>\n",
       "      <td>29.0</td>\n",
       "      <td>F</td>\n",
       "      <td>United States</td>\n",
       "      <td>Washington</td>\n",
       "      <td>Accessories</td>\n",
       "      <td>Tires and Tubes</td>\n",
       "      <td>1.0</td>\n",
       "      <td>80.0</td>\n",
       "      <td>109.0</td>\n",
       "      <td>80.0</td>\n",
       "      <td>109.000000</td>\n",
       "      <td>NaN</td>\n",
       "    </tr>\n",
       "    <tr>\n",
       "      <th>...</th>\n",
       "      <td>...</td>\n",
       "      <td>...</td>\n",
       "      <td>...</td>\n",
       "      <td>...</td>\n",
       "      <td>...</td>\n",
       "      <td>...</td>\n",
       "      <td>...</td>\n",
       "      <td>...</td>\n",
       "      <td>...</td>\n",
       "      <td>...</td>\n",
       "      <td>...</td>\n",
       "      <td>...</td>\n",
       "      <td>...</td>\n",
       "      <td>...</td>\n",
       "      <td>...</td>\n",
       "      <td>...</td>\n",
       "    </tr>\n",
       "    <tr>\n",
       "      <th>299995</th>\n",
       "      <td>34866</td>\n",
       "      <td>NaN</td>\n",
       "      <td>NaN</td>\n",
       "      <td>NaN</td>\n",
       "      <td>NaN</td>\n",
       "      <td>NaN</td>\n",
       "      <td>NaN</td>\n",
       "      <td>NaN</td>\n",
       "      <td>NaN</td>\n",
       "      <td>NaN</td>\n",
       "      <td>NaN</td>\n",
       "      <td>NaN</td>\n",
       "      <td>NaN</td>\n",
       "      <td>NaN</td>\n",
       "      <td>641.532095</td>\n",
       "      <td>NaN</td>\n",
       "    </tr>\n",
       "    <tr>\n",
       "      <th>299996</th>\n",
       "      <td>34866</td>\n",
       "      <td>NaN</td>\n",
       "      <td>NaN</td>\n",
       "      <td>NaN</td>\n",
       "      <td>NaN</td>\n",
       "      <td>NaN</td>\n",
       "      <td>NaN</td>\n",
       "      <td>NaN</td>\n",
       "      <td>NaN</td>\n",
       "      <td>NaN</td>\n",
       "      <td>NaN</td>\n",
       "      <td>NaN</td>\n",
       "      <td>NaN</td>\n",
       "      <td>NaN</td>\n",
       "      <td>641.532095</td>\n",
       "      <td>NaN</td>\n",
       "    </tr>\n",
       "    <tr>\n",
       "      <th>299997</th>\n",
       "      <td>34866</td>\n",
       "      <td>NaN</td>\n",
       "      <td>NaN</td>\n",
       "      <td>NaN</td>\n",
       "      <td>NaN</td>\n",
       "      <td>NaN</td>\n",
       "      <td>NaN</td>\n",
       "      <td>NaN</td>\n",
       "      <td>NaN</td>\n",
       "      <td>NaN</td>\n",
       "      <td>NaN</td>\n",
       "      <td>NaN</td>\n",
       "      <td>NaN</td>\n",
       "      <td>NaN</td>\n",
       "      <td>641.532095</td>\n",
       "      <td>NaN</td>\n",
       "    </tr>\n",
       "    <tr>\n",
       "      <th>299998</th>\n",
       "      <td>34866</td>\n",
       "      <td>NaN</td>\n",
       "      <td>NaN</td>\n",
       "      <td>NaN</td>\n",
       "      <td>NaN</td>\n",
       "      <td>NaN</td>\n",
       "      <td>NaN</td>\n",
       "      <td>NaN</td>\n",
       "      <td>NaN</td>\n",
       "      <td>NaN</td>\n",
       "      <td>NaN</td>\n",
       "      <td>NaN</td>\n",
       "      <td>NaN</td>\n",
       "      <td>NaN</td>\n",
       "      <td>641.532095</td>\n",
       "      <td>NaN</td>\n",
       "    </tr>\n",
       "    <tr>\n",
       "      <th>299999</th>\n",
       "      <td>34866</td>\n",
       "      <td>NaN</td>\n",
       "      <td>NaN</td>\n",
       "      <td>NaN</td>\n",
       "      <td>NaN</td>\n",
       "      <td>NaN</td>\n",
       "      <td>NaN</td>\n",
       "      <td>NaN</td>\n",
       "      <td>NaN</td>\n",
       "      <td>NaN</td>\n",
       "      <td>NaN</td>\n",
       "      <td>NaN</td>\n",
       "      <td>NaN</td>\n",
       "      <td>NaN</td>\n",
       "      <td>641.532095</td>\n",
       "      <td>NaN</td>\n",
       "    </tr>\n",
       "  </tbody>\n",
       "</table>\n",
       "<p>300000 rows × 16 columns</p>\n",
       "</div>"
      ],
      "text/plain": [
       "        index       Date    Year     Month  Customer Age Customer Gender  \\\n",
       "0           0  2/19/2016  2016.0  February          29.0               F   \n",
       "1           0  2/19/2016  2016.0  February          29.0               F   \n",
       "2           0  2/19/2016  2016.0  February          29.0               F   \n",
       "3           0  2/19/2016  2016.0  February          29.0               F   \n",
       "4           0  2/19/2016  2016.0  February          29.0               F   \n",
       "...       ...        ...     ...       ...           ...             ...   \n",
       "299995  34866        NaN     NaN       NaN           NaN             NaN   \n",
       "299996  34866        NaN     NaN       NaN           NaN             NaN   \n",
       "299997  34866        NaN     NaN       NaN           NaN             NaN   \n",
       "299998  34866        NaN     NaN       NaN           NaN             NaN   \n",
       "299999  34866        NaN     NaN       NaN           NaN             NaN   \n",
       "\n",
       "              Country       State Product Category     Sub Category  Quantity  \\\n",
       "0       United States  Washington      Accessories  Tires and Tubes       1.0   \n",
       "1       United States  Washington      Accessories  Tires and Tubes       1.0   \n",
       "2       United States  Washington      Accessories  Tires and Tubes       1.0   \n",
       "3       United States  Washington      Accessories  Tires and Tubes       1.0   \n",
       "4       United States  Washington      Accessories  Tires and Tubes       1.0   \n",
       "...               ...         ...              ...              ...       ...   \n",
       "299995            NaN         NaN              NaN              NaN       NaN   \n",
       "299996            NaN         NaN              NaN              NaN       NaN   \n",
       "299997            NaN         NaN              NaN              NaN       NaN   \n",
       "299998            NaN         NaN              NaN              NaN       NaN   \n",
       "299999            NaN         NaN              NaN              NaN       NaN   \n",
       "\n",
       "        Unit Cost  Unit Price  Cost     Revenue  Column1  \n",
       "0            80.0       109.0  80.0  109.000000      NaN  \n",
       "1            80.0       109.0  80.0  109.000000      NaN  \n",
       "2            80.0       109.0  80.0  109.000000      NaN  \n",
       "3            80.0       109.0  80.0  109.000000      NaN  \n",
       "4            80.0       109.0  80.0  109.000000      NaN  \n",
       "...           ...         ...   ...         ...      ...  \n",
       "299995        NaN         NaN   NaN  641.532095      NaN  \n",
       "299996        NaN         NaN   NaN  641.532095      NaN  \n",
       "299997        NaN         NaN   NaN  641.532095      NaN  \n",
       "299998        NaN         NaN   NaN  641.532095      NaN  \n",
       "299999        NaN         NaN   NaN  641.532095      NaN  \n",
       "\n",
       "[300000 rows x 16 columns]"
      ]
     },
     "execution_count": 6,
     "metadata": {},
     "output_type": "execute_result"
    }
   ],
   "source": [
    "base_bootstrap = df  # Exemple de réassignation, df devient base_bootstrap\n",
    "df"
   ]
  },
  {
   "cell_type": "code",
   "execution_count": null,
   "metadata": {},
   "outputs": [],
   "source": []
  },
  {
   "cell_type": "code",
   "execution_count": 7,
   "metadata": {},
   "outputs": [
    {
     "name": "stdout",
     "output_type": "stream",
     "text": [
      "(300000, 16)\n"
     ]
    }
   ],
   "source": [
    "print(df.shape)"
   ]
  },
  {
   "cell_type": "code",
   "execution_count": 8,
   "metadata": {},
   "outputs": [
    {
     "name": "stdout",
     "output_type": "stream",
     "text": [
      "<class 'pandas.core.frame.DataFrame'>\n",
      "RangeIndex: 300000 entries, 0 to 299999\n",
      "Data columns (total 16 columns):\n",
      " #   Column            Non-Null Count   Dtype  \n",
      "---  ------            --------------   -----  \n",
      " 0   index             300000 non-null  int64  \n",
      " 1   Date              299993 non-null  object \n",
      " 2   Year              299993 non-null  float64\n",
      " 3   Month             299993 non-null  object \n",
      " 4   Customer Age      299993 non-null  float64\n",
      " 5   Customer Gender   299993 non-null  object \n",
      " 6   Country           299993 non-null  object \n",
      " 7   State             299993 non-null  object \n",
      " 8   Product Category  299993 non-null  object \n",
      " 9   Sub Category      299993 non-null  object \n",
      " 10  Quantity          299993 non-null  float64\n",
      " 11  Unit Cost         299993 non-null  float64\n",
      " 12  Unit Price        299993 non-null  float64\n",
      " 13  Cost              299993 non-null  float64\n",
      " 14  Revenue           300000 non-null  float64\n",
      " 15  Column1           21997 non-null   float64\n",
      "dtypes: float64(8), int64(1), object(7)\n",
      "memory usage: 36.6+ MB\n",
      "None\n"
     ]
    }
   ],
   "source": [
    "\n",
    "## afficher les noms de colonnes \n",
    "\n",
    "\n",
    "print(df.info())"
   ]
  },
  {
   "cell_type": "code",
   "execution_count": 9,
   "metadata": {},
   "outputs": [
    {
     "name": "stdout",
     "output_type": "stream",
     "text": [
      "        index       Date  Year  Month  Customer Age Customer Gender  \\\n",
      "0           0 2016-02-19  2016      2          29.0               F   \n",
      "1           0 2016-02-19  2016      2          29.0               F   \n",
      "2           0 2016-02-19  2016      2          29.0               F   \n",
      "3           0 2016-02-19  2016      2          29.0               F   \n",
      "4           0 2016-02-19  2016      2          29.0               F   \n",
      "...       ...        ...   ...    ...           ...             ...   \n",
      "299995  34866        NaT     0      0           NaN             NaN   \n",
      "299996  34866        NaT     0      0           NaN             NaN   \n",
      "299997  34866        NaT     0      0           NaN             NaN   \n",
      "299998  34866        NaT     0      0           NaN             NaN   \n",
      "299999  34866        NaT     0      0           NaN             NaN   \n",
      "\n",
      "              Country       State Product Category     Sub Category  Quantity  \\\n",
      "0       United States  Washington      Accessories  Tires and Tubes       1.0   \n",
      "1       United States  Washington      Accessories  Tires and Tubes       1.0   \n",
      "2       United States  Washington      Accessories  Tires and Tubes       1.0   \n",
      "3       United States  Washington      Accessories  Tires and Tubes       1.0   \n",
      "4       United States  Washington      Accessories  Tires and Tubes       1.0   \n",
      "...               ...         ...              ...              ...       ...   \n",
      "299995            NaN         NaN              NaN              NaN       NaN   \n",
      "299996            NaN         NaN              NaN              NaN       NaN   \n",
      "299997            NaN         NaN              NaN              NaN       NaN   \n",
      "299998            NaN         NaN              NaN              NaN       NaN   \n",
      "299999            NaN         NaN              NaN              NaN       NaN   \n",
      "\n",
      "        Unit Cost  Unit Price  Cost     Revenue  Column1  \n",
      "0            80.0       109.0  80.0  109.000000      NaN  \n",
      "1            80.0       109.0  80.0  109.000000      NaN  \n",
      "2            80.0       109.0  80.0  109.000000      NaN  \n",
      "3            80.0       109.0  80.0  109.000000      NaN  \n",
      "4            80.0       109.0  80.0  109.000000      NaN  \n",
      "...           ...         ...   ...         ...      ...  \n",
      "299995        NaN         NaN   NaN  641.532095      NaN  \n",
      "299996        NaN         NaN   NaN  641.532095      NaN  \n",
      "299997        NaN         NaN   NaN  641.532095      NaN  \n",
      "299998        NaN         NaN   NaN  641.532095      NaN  \n",
      "299999        NaN         NaN   NaN  641.532095      NaN  \n",
      "\n",
      "[300000 rows x 16 columns]\n"
     ]
    }
   ],
   "source": [
    "# 1. Convertir la colonne \"Date\" en format datetime\n",
    "df['Date'] = pd.to_datetime(df['Date'], errors='coerce')\n",
    "\n",
    "# 2. Convertir la colonne \"Year\" en type entier, remplacer NaN par 0\n",
    "df['Year'] = df['Year'].fillna(0).astype(int)\n",
    "\n",
    "# 3. Convertir les mois en nombres\n",
    "# Créons un dictionnaire pour la correspondance des mois\n",
    "mois_mapping = {\n",
    "    \"january\": 1, \"february\": 2, \"march\": 3, \"april\": 4, \n",
    "    \"may\": 5, \"june\": 6, \"july\": 7, \"august\": 8, \n",
    "    \"september\": 9, \"october\": 10, \"november\": 11, \"december\": 12\n",
    "}\n",
    "\n",
    "# Appliquer la conversion avec map() en gérant les valeurs manquantes\n",
    "df['Month'] = df['Month'].astype(str).str.lower().map(mois_mapping).fillna(0).astype(int)\n",
    "\n",
    "# Afficher le DataFrame\n",
    "print(df)\n",
    "\n",
    "\n",
    "\n"
   ]
  },
  {
   "cell_type": "code",
   "execution_count": 10,
   "metadata": {},
   "outputs": [
    {
     "name": "stdout",
     "output_type": "stream",
     "text": [
      "        index Date  Year  Month  Customer Age Customer Gender Country State  \\\n",
      "299995  34866  NaT     0      0           NaN             NaN     NaN   NaN   \n",
      "299996  34866  NaT     0      0           NaN             NaN     NaN   NaN   \n",
      "299997  34866  NaT     0      0           NaN             NaN     NaN   NaN   \n",
      "299998  34866  NaT     0      0           NaN             NaN     NaN   NaN   \n",
      "299999  34866  NaT     0      0           NaN             NaN     NaN   NaN   \n",
      "\n",
      "       Product Category Sub Category  Quantity  Unit Cost  Unit Price  Cost  \\\n",
      "299995              NaN          NaN       NaN        NaN         NaN   NaN   \n",
      "299996              NaN          NaN       NaN        NaN         NaN   NaN   \n",
      "299997              NaN          NaN       NaN        NaN         NaN   NaN   \n",
      "299998              NaN          NaN       NaN        NaN         NaN   NaN   \n",
      "299999              NaN          NaN       NaN        NaN         NaN   NaN   \n",
      "\n",
      "           Revenue  Column1  Semestre  \n",
      "299995  641.532095      NaN         2  \n",
      "299996  641.532095      NaN         2  \n",
      "299997  641.532095      NaN         2  \n",
      "299998  641.532095      NaN         2  \n",
      "299999  641.532095      NaN         2  \n"
     ]
    }
   ],
   "source": [
    "# Créer une variable 'Semestre' qui prend 1 si la date est avant ou égale à juillet des années, 0 sinon\n",
    "df['Semestre'] = df['Date'].apply(lambda x: 1 if x.month <= 7 else 2)\n",
    "\n",
    "# Afficher le DataFrame avec la nouvelle colonne\n",
    "print(df.tail())"
   ]
  },
  {
   "cell_type": "code",
   "execution_count": 11,
   "metadata": {},
   "outputs": [
    {
     "data": {
      "text/html": [
       "<div>\n",
       "<style scoped>\n",
       "    .dataframe tbody tr th:only-of-type {\n",
       "        vertical-align: middle;\n",
       "    }\n",
       "\n",
       "    .dataframe tbody tr th {\n",
       "        vertical-align: top;\n",
       "    }\n",
       "\n",
       "    .dataframe thead th {\n",
       "        text-align: right;\n",
       "    }\n",
       "</style>\n",
       "<table border=\"1\" class=\"dataframe\">\n",
       "  <thead>\n",
       "    <tr style=\"text-align: right;\">\n",
       "      <th></th>\n",
       "      <th>Date</th>\n",
       "      <th>Semestre</th>\n",
       "    </tr>\n",
       "  </thead>\n",
       "  <tbody>\n",
       "    <tr>\n",
       "      <th>134</th>\n",
       "      <td>2015-08-18</td>\n",
       "      <td>2</td>\n",
       "    </tr>\n",
       "    <tr>\n",
       "      <th>135</th>\n",
       "      <td>2015-08-18</td>\n",
       "      <td>2</td>\n",
       "    </tr>\n",
       "    <tr>\n",
       "      <th>136</th>\n",
       "      <td>2015-08-18</td>\n",
       "      <td>2</td>\n",
       "    </tr>\n",
       "    <tr>\n",
       "      <th>137</th>\n",
       "      <td>2015-08-18</td>\n",
       "      <td>2</td>\n",
       "    </tr>\n",
       "    <tr>\n",
       "      <th>138</th>\n",
       "      <td>2015-08-18</td>\n",
       "      <td>2</td>\n",
       "    </tr>\n",
       "    <tr>\n",
       "      <th>...</th>\n",
       "      <td>...</td>\n",
       "      <td>...</td>\n",
       "    </tr>\n",
       "    <tr>\n",
       "      <th>299988</th>\n",
       "      <td>2015-08-30</td>\n",
       "      <td>2</td>\n",
       "    </tr>\n",
       "    <tr>\n",
       "      <th>299989</th>\n",
       "      <td>2015-08-30</td>\n",
       "      <td>2</td>\n",
       "    </tr>\n",
       "    <tr>\n",
       "      <th>299990</th>\n",
       "      <td>2015-08-30</td>\n",
       "      <td>2</td>\n",
       "    </tr>\n",
       "    <tr>\n",
       "      <th>299991</th>\n",
       "      <td>2015-08-30</td>\n",
       "      <td>2</td>\n",
       "    </tr>\n",
       "    <tr>\n",
       "      <th>299992</th>\n",
       "      <td>2015-08-30</td>\n",
       "      <td>2</td>\n",
       "    </tr>\n",
       "  </tbody>\n",
       "</table>\n",
       "<p>129255 rows × 2 columns</p>\n",
       "</div>"
      ],
      "text/plain": [
       "             Date  Semestre\n",
       "134    2015-08-18         2\n",
       "135    2015-08-18         2\n",
       "136    2015-08-18         2\n",
       "137    2015-08-18         2\n",
       "138    2015-08-18         2\n",
       "...           ...       ...\n",
       "299988 2015-08-30         2\n",
       "299989 2015-08-30         2\n",
       "299990 2015-08-30         2\n",
       "299991 2015-08-30         2\n",
       "299992 2015-08-30         2\n",
       "\n",
       "[129255 rows x 2 columns]"
      ]
     },
     "execution_count": 11,
     "metadata": {},
     "output_type": "execute_result"
    }
   ],
   "source": [
    "df[df['Year'] == 2015][['Date', 'Semestre']]"
   ]
  },
  {
   "cell_type": "markdown",
   "metadata": {},
   "source": [
    "### 2.Nettoyage"
   ]
  },
  {
   "cell_type": "code",
   "execution_count": 12,
   "metadata": {},
   "outputs": [
    {
     "name": "stdout",
     "output_type": "stream",
     "text": [
      "index               False\n",
      "Date                 True\n",
      "Year                False\n",
      "Month               False\n",
      "Customer Age         True\n",
      "Customer Gender      True\n",
      "Country              True\n",
      "State                True\n",
      "Product Category     True\n",
      "Sub Category         True\n",
      "Quantity             True\n",
      "Unit Cost            True\n",
      "Unit Price           True\n",
      "Cost                 True\n",
      "Revenue             False\n",
      "Column1              True\n",
      "Semestre            False\n",
      "dtype: bool\n"
     ]
    }
   ],
   "source": [
    "# Valeurs manquantes \n",
    "\n",
    "# # Vérifier si des valeurs manquantes existent\n",
    "print(df.isnull().any())\n",
    "\n",
    "# True : indique qu'une cellule contient une valeur manquante (NaN).\n",
    "# False : indique qu'une cellule contient une valeur valide (non manquante)."
   ]
  },
  {
   "cell_type": "code",
   "execution_count": 13,
   "metadata": {},
   "outputs": [
    {
     "name": "stdout",
     "output_type": "stream",
     "text": [
      "index                    0\n",
      "Date                     7\n",
      "Year                     0\n",
      "Month                    0\n",
      "Customer Age             7\n",
      "Customer Gender          7\n",
      "Country                  7\n",
      "State                    7\n",
      "Product Category         7\n",
      "Sub Category             7\n",
      "Quantity                 7\n",
      "Unit Cost                7\n",
      "Unit Price               7\n",
      "Cost                     7\n",
      "Revenue                  0\n",
      "Column1             278003\n",
      "Semestre                 0\n",
      "dtype: int64\n"
     ]
    }
   ],
   "source": [
    "# Compter les valeurs manquantes par colonne\n",
    "missing_values = df.isnull().sum()\n",
    "print(missing_values)"
   ]
  },
  {
   "cell_type": "code",
   "execution_count": 14,
   "metadata": {},
   "outputs": [
    {
     "name": "stdout",
     "output_type": "stream",
     "text": [
      "278003\n"
     ]
    }
   ],
   "source": [
    "# Filtrer les lignes avec des valeurs manquantes\n",
    "rows_with_missing = df[df.isnull().any(axis=1)]\n",
    "print(len(rows_with_missing))"
   ]
  },
  {
   "cell_type": "code",
   "execution_count": 15,
   "metadata": {},
   "outputs": [
    {
     "name": "stdout",
     "output_type": "stream",
     "text": [
      "   index       Date  Year  Month  Customer Age Customer Gender        Country  \\\n",
      "0      0 2016-02-19  2016      2          29.0               F  United States   \n",
      "1      0 2016-02-19  2016      2          29.0               F  United States   \n",
      "2      0 2016-02-19  2016      2          29.0               F  United States   \n",
      "3      0 2016-02-19  2016      2          29.0               F  United States   \n",
      "4      0 2016-02-19  2016      2          29.0               F  United States   \n",
      "\n",
      "        State Product Category     Sub Category  Quantity  Unit Cost  \\\n",
      "0  Washington      Accessories  Tires and Tubes       1.0       80.0   \n",
      "1  Washington      Accessories  Tires and Tubes       1.0       80.0   \n",
      "2  Washington      Accessories  Tires and Tubes       1.0       80.0   \n",
      "3  Washington      Accessories  Tires and Tubes       1.0       80.0   \n",
      "4  Washington      Accessories  Tires and Tubes       1.0       80.0   \n",
      "\n",
      "   Unit Price  Cost  Revenue  Semestre  \n",
      "0       109.0  80.0    109.0         1  \n",
      "1       109.0  80.0    109.0         1  \n",
      "2       109.0  80.0    109.0         1  \n",
      "3       109.0  80.0    109.0         1  \n",
      "4       109.0  80.0    109.0         1  \n"
     ]
    }
   ],
   "source": [
    "# supprimer la colonne qui est presque vide\n",
    "\n",
    "\n",
    "df.drop(columns=[\"Column1\"], inplace=True)\n",
    "\n",
    "print(df.head())"
   ]
  },
  {
   "cell_type": "code",
   "execution_count": null,
   "metadata": {},
   "outputs": [],
   "source": []
  },
  {
   "cell_type": "code",
   "execution_count": 16,
   "metadata": {},
   "outputs": [],
   "source": [
    "df = df.dropna()\n"
   ]
  },
  {
   "cell_type": "code",
   "execution_count": 17,
   "metadata": {},
   "outputs": [
    {
     "name": "stdout",
     "output_type": "stream",
     "text": [
      "        index       Date  Year  Month  Customer Age Customer Gender Country  \\\n",
      "299988  34865 2015-08-30  2015      8          38.0               M  France   \n",
      "299989  34865 2015-08-30  2015      8          38.0               M  France   \n",
      "299990  34865 2015-08-30  2015      8          38.0               M  France   \n",
      "299991  34865 2015-08-30  2015      8          38.0               M  France   \n",
      "299992  34865 2015-08-30  2015      8          38.0               M  France   \n",
      "\n",
      "                 State Product Category    Sub Category  Quantity  Unit Cost  \\\n",
      "299988  Hauts de Seine            Bikes  Mountain Bikes       1.0     2320.0   \n",
      "299989  Hauts de Seine            Bikes  Mountain Bikes       1.0     2320.0   \n",
      "299990  Hauts de Seine            Bikes  Mountain Bikes       1.0     2320.0   \n",
      "299991  Hauts de Seine            Bikes  Mountain Bikes       1.0     2320.0   \n",
      "299992  Hauts de Seine            Bikes  Mountain Bikes       1.0     2320.0   \n",
      "\n",
      "        Unit Price    Cost  Revenue  Semestre  \n",
      "299988      1568.0  2320.0   1568.0         2  \n",
      "299989      1568.0  2320.0   1568.0         2  \n",
      "299990      1568.0  2320.0   1568.0         2  \n",
      "299991      1568.0  2320.0   1568.0         2  \n",
      "299992      1568.0  2320.0   1568.0         2  \n"
     ]
    }
   ],
   "source": [
    "\n",
    "print(df.tail())"
   ]
  },
  {
   "cell_type": "code",
   "execution_count": 18,
   "metadata": {},
   "outputs": [
    {
     "name": "stdout",
     "output_type": "stream",
     "text": [
      "Pas de valeurs manquantes\n"
     ]
    }
   ],
   "source": [
    "if df.isnull().any().any():\n",
    "    print(\"Il y a des valeurs manquantes\")\n",
    "else:\n",
    "    print(\"Pas de valeurs manquantes\")\n",
    "\n",
    "#print(df.isnull().any())\n",
    "#print(f\"Pas de valeurs manquantes\")"
   ]
  },
  {
   "cell_type": "markdown",
   "metadata": {},
   "source": [
    "### 2.CREATION DES VARIABLES "
   ]
  },
  {
   "cell_type": "code",
   "execution_count": 19,
   "metadata": {},
   "outputs": [
    {
     "data": {
      "text/html": [
       "<div>\n",
       "<style scoped>\n",
       "    .dataframe tbody tr th:only-of-type {\n",
       "        vertical-align: middle;\n",
       "    }\n",
       "\n",
       "    .dataframe tbody tr th {\n",
       "        vertical-align: top;\n",
       "    }\n",
       "\n",
       "    .dataframe thead th {\n",
       "        text-align: right;\n",
       "    }\n",
       "</style>\n",
       "<table border=\"1\" class=\"dataframe\">\n",
       "  <thead>\n",
       "    <tr style=\"text-align: right;\">\n",
       "      <th></th>\n",
       "      <th>index</th>\n",
       "      <th>Date</th>\n",
       "      <th>Year</th>\n",
       "      <th>Month</th>\n",
       "      <th>Customer Age</th>\n",
       "      <th>Customer Gender</th>\n",
       "      <th>Country</th>\n",
       "      <th>State</th>\n",
       "      <th>Product Category</th>\n",
       "      <th>Sub Category</th>\n",
       "      <th>Quantity</th>\n",
       "      <th>Unit Cost</th>\n",
       "      <th>Unit Price</th>\n",
       "      <th>Cout_tot</th>\n",
       "      <th>Chiffre_affaires</th>\n",
       "      <th>Semestre</th>\n",
       "    </tr>\n",
       "  </thead>\n",
       "  <tbody>\n",
       "    <tr>\n",
       "      <th>0</th>\n",
       "      <td>0</td>\n",
       "      <td>2016-02-19</td>\n",
       "      <td>2016</td>\n",
       "      <td>2</td>\n",
       "      <td>29.0</td>\n",
       "      <td>F</td>\n",
       "      <td>United States</td>\n",
       "      <td>Washington</td>\n",
       "      <td>Accessories</td>\n",
       "      <td>Tires and Tubes</td>\n",
       "      <td>1.0</td>\n",
       "      <td>80.0</td>\n",
       "      <td>109.0</td>\n",
       "      <td>80.0</td>\n",
       "      <td>109.0</td>\n",
       "      <td>1</td>\n",
       "    </tr>\n",
       "    <tr>\n",
       "      <th>1</th>\n",
       "      <td>0</td>\n",
       "      <td>2016-02-19</td>\n",
       "      <td>2016</td>\n",
       "      <td>2</td>\n",
       "      <td>29.0</td>\n",
       "      <td>F</td>\n",
       "      <td>United States</td>\n",
       "      <td>Washington</td>\n",
       "      <td>Accessories</td>\n",
       "      <td>Tires and Tubes</td>\n",
       "      <td>1.0</td>\n",
       "      <td>80.0</td>\n",
       "      <td>109.0</td>\n",
       "      <td>80.0</td>\n",
       "      <td>109.0</td>\n",
       "      <td>1</td>\n",
       "    </tr>\n",
       "    <tr>\n",
       "      <th>2</th>\n",
       "      <td>0</td>\n",
       "      <td>2016-02-19</td>\n",
       "      <td>2016</td>\n",
       "      <td>2</td>\n",
       "      <td>29.0</td>\n",
       "      <td>F</td>\n",
       "      <td>United States</td>\n",
       "      <td>Washington</td>\n",
       "      <td>Accessories</td>\n",
       "      <td>Tires and Tubes</td>\n",
       "      <td>1.0</td>\n",
       "      <td>80.0</td>\n",
       "      <td>109.0</td>\n",
       "      <td>80.0</td>\n",
       "      <td>109.0</td>\n",
       "      <td>1</td>\n",
       "    </tr>\n",
       "    <tr>\n",
       "      <th>3</th>\n",
       "      <td>0</td>\n",
       "      <td>2016-02-19</td>\n",
       "      <td>2016</td>\n",
       "      <td>2</td>\n",
       "      <td>29.0</td>\n",
       "      <td>F</td>\n",
       "      <td>United States</td>\n",
       "      <td>Washington</td>\n",
       "      <td>Accessories</td>\n",
       "      <td>Tires and Tubes</td>\n",
       "      <td>1.0</td>\n",
       "      <td>80.0</td>\n",
       "      <td>109.0</td>\n",
       "      <td>80.0</td>\n",
       "      <td>109.0</td>\n",
       "      <td>1</td>\n",
       "    </tr>\n",
       "    <tr>\n",
       "      <th>4</th>\n",
       "      <td>0</td>\n",
       "      <td>2016-02-19</td>\n",
       "      <td>2016</td>\n",
       "      <td>2</td>\n",
       "      <td>29.0</td>\n",
       "      <td>F</td>\n",
       "      <td>United States</td>\n",
       "      <td>Washington</td>\n",
       "      <td>Accessories</td>\n",
       "      <td>Tires and Tubes</td>\n",
       "      <td>1.0</td>\n",
       "      <td>80.0</td>\n",
       "      <td>109.0</td>\n",
       "      <td>80.0</td>\n",
       "      <td>109.0</td>\n",
       "      <td>1</td>\n",
       "    </tr>\n",
       "  </tbody>\n",
       "</table>\n",
       "</div>"
      ],
      "text/plain": [
       "   index       Date  Year  Month  Customer Age Customer Gender        Country  \\\n",
       "0      0 2016-02-19  2016      2          29.0               F  United States   \n",
       "1      0 2016-02-19  2016      2          29.0               F  United States   \n",
       "2      0 2016-02-19  2016      2          29.0               F  United States   \n",
       "3      0 2016-02-19  2016      2          29.0               F  United States   \n",
       "4      0 2016-02-19  2016      2          29.0               F  United States   \n",
       "\n",
       "        State Product Category     Sub Category  Quantity  Unit Cost  \\\n",
       "0  Washington      Accessories  Tires and Tubes       1.0       80.0   \n",
       "1  Washington      Accessories  Tires and Tubes       1.0       80.0   \n",
       "2  Washington      Accessories  Tires and Tubes       1.0       80.0   \n",
       "3  Washington      Accessories  Tires and Tubes       1.0       80.0   \n",
       "4  Washington      Accessories  Tires and Tubes       1.0       80.0   \n",
       "\n",
       "   Unit Price  Cout_tot  Chiffre_affaires  Semestre  \n",
       "0       109.0      80.0             109.0         1  \n",
       "1       109.0      80.0             109.0         1  \n",
       "2       109.0      80.0             109.0         1  \n",
       "3       109.0      80.0             109.0         1  \n",
       "4       109.0      80.0             109.0         1  "
      ]
     },
     "execution_count": 19,
     "metadata": {},
     "output_type": "execute_result"
    }
   ],
   "source": [
    "# Renommer les colonnes\n",
    "df.rename(columns={'Cost': 'Cout_tot'}, inplace=True)\n",
    "\n",
    "df.rename(columns={'Revenue': 'Chiffre_affaires'}, inplace=True)\n",
    "\n",
    "df.head()"
   ]
  },
  {
   "cell_type": "code",
   "execution_count": 20,
   "metadata": {},
   "outputs": [],
   "source": [
    "# Creations de variables \n",
    "\n",
    "df['Benefice'] = df['Chiffre_affaires'] - df['Cout_tot']"
   ]
  },
  {
   "cell_type": "markdown",
   "metadata": {},
   "source": [
    "### Quelques statistiques descriptives "
   ]
  },
  {
   "cell_type": "code",
   "execution_count": 21,
   "metadata": {},
   "outputs": [
    {
     "name": "stdout",
     "output_type": "stream",
     "text": [
      "                     count        mean         std    min    25%    50%  \\\n",
      "Customer Age      299993.0   36.376642   11.130965   17.0   28.0   35.0   \n",
      "Cout_tot          299993.0  575.999470  690.617905    2.0   85.0  261.0   \n",
      "Chiffre_affaires  299993.0  640.805002  736.846531    2.0  102.0  317.0   \n",
      "Benefice          299993.0   64.805532  152.466323 -937.0    5.0   27.0   \n",
      "\n",
      "                    75%     max  \n",
      "Customer Age       44.0    87.0  \n",
      "Cout_tot          769.0  3600.0  \n",
      "Chiffre_affaires  901.0  5082.0  \n",
      "Benefice           95.0  1842.0  \n"
     ]
    }
   ],
   "source": [
    "# Sélectionner les colonnes spécifiques pour les statistiques descriptives\n",
    "stats = df[['Customer Age','Cout_tot', 'Chiffre_affaires', 'Benefice']].describe()\n",
    "\n",
    "# Transposer les résultats pour afficher les paramètres en colonnes\n",
    "stats_transposed = stats.T\n",
    "\n",
    "# Afficher les statistiques transposées\n",
    "print(stats_transposed)\n"
   ]
  },
  {
   "cell_type": "code",
   "execution_count": 22,
   "metadata": {},
   "outputs": [
    {
     "data": {
      "image/png": "[encoded data removed]",
      "text/plain": [
       "<Figure size 800x600 with 2 Axes>"
      ]
     },
     "metadata": {},
     "output_type": "display_data"
    }
   ],
   "source": [
    "#Matrice de corrélation \n",
    " \n",
    "# Sélectionner les variables quantitatives spécifiques\n",
    "corr_df = df[['Customer Age','Cout_tot', 'Chiffre_affaires', 'Benefice']]\n",
    "\n",
    "# Calculer la matrice de corrélation\n",
    "corr_matrix = corr_df.corr()\n",
    "\n",
    "# Afficher la matrice de corrélation sous forme de heatmap\n",
    "plt.figure(figsize=(8, 6))\n",
    "sns.heatmap(corr_matrix, annot=True, cmap='coolwarm', fmt='.2f', cbar=True, linewidths=0.5)\n",
    "\n",
    "plt.show()"
   ]
  },
  {
   "cell_type": "code",
   "execution_count": 23,
   "metadata": {},
   "outputs": [
    {
     "data": {
      "image/png": "[encoded data removed]",
      "text/plain": [
       "<Figure size 1500x1000 with 6 Axes>"
      ]
     },
     "metadata": {},
     "output_type": "display_data"
    }
   ],
   "source": [
    "\n",
    "\n",
    "# Créer une figure avec plusieurs sous-graphiques (2 lignes, 3 colonnes)\n",
    "plt.figure(figsize=(15, 10))\n",
    "\n",
    "# Distribution de densité et Boxplot pour 'Cost'\n",
    "plt.subplot(2, 3, 1)\n",
    "sns.histplot(df['Cout_tot'], kde=True, color='skyblue', bins=30)\n",
    "plt.title('Distribution de Cost')\n",
    "plt.xlabel('Cout_tot')\n",
    "\n",
    "plt.subplot(2, 3, 2)\n",
    "sns.boxplot(x=df['Cout_tot'], color='lightblue')\n",
    "plt.title('Boxplot de Cost')\n",
    "plt.xlabel('Cout_tot')\n",
    "\n",
    "# Distribution de densité et Boxplot pour 'Chiffre_affaires'\n",
    "plt.subplot(2, 3, 3)\n",
    "sns.histplot(df['Chiffre_affaires'], kde=True, color='lightgreen', bins=30)\n",
    "plt.title('Distribution de Revenue')\n",
    "plt.xlabel('Chiffre_affaires')\n",
    "\n",
    "plt.subplot(2, 3, 4)\n",
    "sns.boxplot(x=df['Chiffre_affaires'], color='lightgreen')\n",
    "plt.title('Boxplot de Revenue')\n",
    "plt.xlabel('Chiffre_affaires')\n",
    "\n",
    "# Distribution de densité et Boxplot pour 'Benefice'\n",
    "plt.subplot(2, 3, 5)\n",
    "sns.histplot(df['Benefice'], kde=True, color='pink', bins=30)\n",
    "plt.title('Distribution de Benefice')\n",
    "plt.xlabel('Benefice')\n",
    "\n",
    "plt.subplot(2, 3, 6)\n",
    "sns.boxplot(x=df['Benefice'], color='pink')\n",
    "plt.title('Boxplot de Benefice')\n",
    "plt.xlabel('Benefice')\n",
    "\n",
    "# Ajuster la disposition des sous-graphiques\n",
    "plt.tight_layout()\n",
    "\n",
    "# Afficher les graphiques\n",
    "plt.show()\n"
   ]
  },
  {
   "cell_type": "markdown",
   "metadata": {},
   "source": [
    "### 3.Visualisation graphique \n"
   ]
  },
  {
   "cell_type": "code",
   "execution_count": 24,
   "metadata": {},
   "outputs": [
    {
     "data": {
      "text/html": [
       "<div>\n",
       "<style scoped>\n",
       "    .dataframe tbody tr th:only-of-type {\n",
       "        vertical-align: middle;\n",
       "    }\n",
       "\n",
       "    .dataframe tbody tr th {\n",
       "        vertical-align: top;\n",
       "    }\n",
       "\n",
       "    .dataframe thead th {\n",
       "        text-align: right;\n",
       "    }\n",
       "</style>\n",
       "<table border=\"1\" class=\"dataframe\">\n",
       "  <thead>\n",
       "    <tr style=\"text-align: right;\">\n",
       "      <th></th>\n",
       "      <th>index</th>\n",
       "      <th>Date</th>\n",
       "      <th>Year</th>\n",
       "      <th>Month</th>\n",
       "      <th>Customer Age</th>\n",
       "      <th>Customer Gender</th>\n",
       "      <th>Country</th>\n",
       "      <th>State</th>\n",
       "      <th>Product Category</th>\n",
       "      <th>Sub Category</th>\n",
       "      <th>Quantity</th>\n",
       "      <th>Unit Cost</th>\n",
       "      <th>Unit Price</th>\n",
       "      <th>Cout_tot</th>\n",
       "      <th>Chiffre_affaires</th>\n",
       "      <th>Semestre</th>\n",
       "      <th>Benefice</th>\n",
       "    </tr>\n",
       "  </thead>\n",
       "  <tbody>\n",
       "    <tr>\n",
       "      <th>18448</th>\n",
       "      <td>2150</td>\n",
       "      <td>2015-01-01</td>\n",
       "      <td>2015</td>\n",
       "      <td>1</td>\n",
       "      <td>19.0</td>\n",
       "      <td>F</td>\n",
       "      <td>United States</td>\n",
       "      <td>Washington</td>\n",
       "      <td>Bikes</td>\n",
       "      <td>Road Bikes</td>\n",
       "      <td>1.0</td>\n",
       "      <td>1000.00</td>\n",
       "      <td>938.000000</td>\n",
       "      <td>1000.0</td>\n",
       "      <td>938.0</td>\n",
       "      <td>1</td>\n",
       "      <td>-62.0</td>\n",
       "    </tr>\n",
       "    <tr>\n",
       "      <th>83176</th>\n",
       "      <td>9687</td>\n",
       "      <td>2015-01-01</td>\n",
       "      <td>2015</td>\n",
       "      <td>1</td>\n",
       "      <td>36.0</td>\n",
       "      <td>F</td>\n",
       "      <td>United States</td>\n",
       "      <td>California</td>\n",
       "      <td>Bikes</td>\n",
       "      <td>Mountain Bikes</td>\n",
       "      <td>2.0</td>\n",
       "      <td>1035.50</td>\n",
       "      <td>896.000000</td>\n",
       "      <td>2071.0</td>\n",
       "      <td>1792.0</td>\n",
       "      <td>1</td>\n",
       "      <td>-279.0</td>\n",
       "    </tr>\n",
       "    <tr>\n",
       "      <th>84627</th>\n",
       "      <td>9857</td>\n",
       "      <td>2015-01-01</td>\n",
       "      <td>2015</td>\n",
       "      <td>1</td>\n",
       "      <td>29.0</td>\n",
       "      <td>F</td>\n",
       "      <td>United States</td>\n",
       "      <td>Florida</td>\n",
       "      <td>Bikes</td>\n",
       "      <td>Road Bikes</td>\n",
       "      <td>3.0</td>\n",
       "      <td>261.00</td>\n",
       "      <td>230.666667</td>\n",
       "      <td>783.0</td>\n",
       "      <td>692.0</td>\n",
       "      <td>1</td>\n",
       "      <td>-91.0</td>\n",
       "    </tr>\n",
       "    <tr>\n",
       "      <th>84643</th>\n",
       "      <td>9859</td>\n",
       "      <td>2015-01-01</td>\n",
       "      <td>2015</td>\n",
       "      <td>1</td>\n",
       "      <td>29.0</td>\n",
       "      <td>M</td>\n",
       "      <td>United States</td>\n",
       "      <td>Oregon</td>\n",
       "      <td>Bikes</td>\n",
       "      <td>Road Bikes</td>\n",
       "      <td>3.0</td>\n",
       "      <td>261.00</td>\n",
       "      <td>233.000000</td>\n",
       "      <td>783.0</td>\n",
       "      <td>699.0</td>\n",
       "      <td>1</td>\n",
       "      <td>-84.0</td>\n",
       "    </tr>\n",
       "    <tr>\n",
       "      <th>83179</th>\n",
       "      <td>9687</td>\n",
       "      <td>2015-01-01</td>\n",
       "      <td>2015</td>\n",
       "      <td>1</td>\n",
       "      <td>36.0</td>\n",
       "      <td>F</td>\n",
       "      <td>United States</td>\n",
       "      <td>California</td>\n",
       "      <td>Bikes</td>\n",
       "      <td>Mountain Bikes</td>\n",
       "      <td>2.0</td>\n",
       "      <td>1035.50</td>\n",
       "      <td>896.000000</td>\n",
       "      <td>2071.0</td>\n",
       "      <td>1792.0</td>\n",
       "      <td>1</td>\n",
       "      <td>-279.0</td>\n",
       "    </tr>\n",
       "    <tr>\n",
       "      <th>...</th>\n",
       "      <td>...</td>\n",
       "      <td>...</td>\n",
       "      <td>...</td>\n",
       "      <td>...</td>\n",
       "      <td>...</td>\n",
       "      <td>...</td>\n",
       "      <td>...</td>\n",
       "      <td>...</td>\n",
       "      <td>...</td>\n",
       "      <td>...</td>\n",
       "      <td>...</td>\n",
       "      <td>...</td>\n",
       "      <td>...</td>\n",
       "      <td>...</td>\n",
       "      <td>...</td>\n",
       "      <td>...</td>\n",
       "      <td>...</td>\n",
       "    </tr>\n",
       "    <tr>\n",
       "      <th>263722</th>\n",
       "      <td>30604</td>\n",
       "      <td>2016-07-31</td>\n",
       "      <td>2016</td>\n",
       "      <td>7</td>\n",
       "      <td>31.0</td>\n",
       "      <td>F</td>\n",
       "      <td>Germany</td>\n",
       "      <td>Bayern</td>\n",
       "      <td>Accessories</td>\n",
       "      <td>Tires and Tubes</td>\n",
       "      <td>2.0</td>\n",
       "      <td>50.00</td>\n",
       "      <td>76.000000</td>\n",
       "      <td>100.0</td>\n",
       "      <td>152.0</td>\n",
       "      <td>1</td>\n",
       "      <td>52.0</td>\n",
       "    </tr>\n",
       "    <tr>\n",
       "      <th>263723</th>\n",
       "      <td>30604</td>\n",
       "      <td>2016-07-31</td>\n",
       "      <td>2016</td>\n",
       "      <td>7</td>\n",
       "      <td>31.0</td>\n",
       "      <td>F</td>\n",
       "      <td>Germany</td>\n",
       "      <td>Bayern</td>\n",
       "      <td>Accessories</td>\n",
       "      <td>Tires and Tubes</td>\n",
       "      <td>2.0</td>\n",
       "      <td>50.00</td>\n",
       "      <td>76.000000</td>\n",
       "      <td>100.0</td>\n",
       "      <td>152.0</td>\n",
       "      <td>1</td>\n",
       "      <td>52.0</td>\n",
       "    </tr>\n",
       "    <tr>\n",
       "      <th>263724</th>\n",
       "      <td>30604</td>\n",
       "      <td>2016-07-31</td>\n",
       "      <td>2016</td>\n",
       "      <td>7</td>\n",
       "      <td>31.0</td>\n",
       "      <td>F</td>\n",
       "      <td>Germany</td>\n",
       "      <td>Bayern</td>\n",
       "      <td>Accessories</td>\n",
       "      <td>Tires and Tubes</td>\n",
       "      <td>2.0</td>\n",
       "      <td>50.00</td>\n",
       "      <td>76.000000</td>\n",
       "      <td>100.0</td>\n",
       "      <td>152.0</td>\n",
       "      <td>1</td>\n",
       "      <td>52.0</td>\n",
       "    </tr>\n",
       "    <tr>\n",
       "      <th>136723</th>\n",
       "      <td>15907</td>\n",
       "      <td>2016-07-31</td>\n",
       "      <td>2016</td>\n",
       "      <td>7</td>\n",
       "      <td>47.0</td>\n",
       "      <td>F</td>\n",
       "      <td>United Kingdom</td>\n",
       "      <td>England</td>\n",
       "      <td>Accessories</td>\n",
       "      <td>Tires and Tubes</td>\n",
       "      <td>2.0</td>\n",
       "      <td>67.50</td>\n",
       "      <td>96.500000</td>\n",
       "      <td>135.0</td>\n",
       "      <td>193.0</td>\n",
       "      <td>1</td>\n",
       "      <td>58.0</td>\n",
       "    </tr>\n",
       "    <tr>\n",
       "      <th>18007</th>\n",
       "      <td>2099</td>\n",
       "      <td>2016-07-31</td>\n",
       "      <td>2016</td>\n",
       "      <td>7</td>\n",
       "      <td>39.0</td>\n",
       "      <td>F</td>\n",
       "      <td>United States</td>\n",
       "      <td>California</td>\n",
       "      <td>Accessories</td>\n",
       "      <td>Fenders</td>\n",
       "      <td>3.0</td>\n",
       "      <td>161.33</td>\n",
       "      <td>186.000000</td>\n",
       "      <td>484.0</td>\n",
       "      <td>558.0</td>\n",
       "      <td>1</td>\n",
       "      <td>74.0</td>\n",
       "    </tr>\n",
       "  </tbody>\n",
       "</table>\n",
       "<p>299993 rows × 17 columns</p>\n",
       "</div>"
      ],
      "text/plain": [
       "        index       Date  Year  Month  Customer Age Customer Gender  \\\n",
       "18448    2150 2015-01-01  2015      1          19.0               F   \n",
       "83176    9687 2015-01-01  2015      1          36.0               F   \n",
       "84627    9857 2015-01-01  2015      1          29.0               F   \n",
       "84643    9859 2015-01-01  2015      1          29.0               M   \n",
       "83179    9687 2015-01-01  2015      1          36.0               F   \n",
       "...       ...        ...   ...    ...           ...             ...   \n",
       "263722  30604 2016-07-31  2016      7          31.0               F   \n",
       "263723  30604 2016-07-31  2016      7          31.0               F   \n",
       "263724  30604 2016-07-31  2016      7          31.0               F   \n",
       "136723  15907 2016-07-31  2016      7          47.0               F   \n",
       "18007    2099 2016-07-31  2016      7          39.0               F   \n",
       "\n",
       "               Country       State Product Category     Sub Category  \\\n",
       "18448    United States  Washington            Bikes       Road Bikes   \n",
       "83176    United States  California            Bikes   Mountain Bikes   \n",
       "84627    United States     Florida            Bikes       Road Bikes   \n",
       "84643    United States      Oregon            Bikes       Road Bikes   \n",
       "83179    United States  California            Bikes   Mountain Bikes   \n",
       "...                ...         ...              ...              ...   \n",
       "263722         Germany      Bayern      Accessories  Tires and Tubes   \n",
       "263723         Germany      Bayern      Accessories  Tires and Tubes   \n",
       "263724         Germany      Bayern      Accessories  Tires and Tubes   \n",
       "136723  United Kingdom     England      Accessories  Tires and Tubes   \n",
       "18007    United States  California      Accessories          Fenders   \n",
       "\n",
       "        Quantity  Unit Cost  Unit Price  Cout_tot  Chiffre_affaires  Semestre  \\\n",
       "18448        1.0    1000.00  938.000000    1000.0             938.0         1   \n",
       "83176        2.0    1035.50  896.000000    2071.0            1792.0         1   \n",
       "84627        3.0     261.00  230.666667     783.0             692.0         1   \n",
       "84643        3.0     261.00  233.000000     783.0             699.0         1   \n",
       "83179        2.0    1035.50  896.000000    2071.0            1792.0         1   \n",
       "...          ...        ...         ...       ...               ...       ...   \n",
       "263722       2.0      50.00   76.000000     100.0             152.0         1   \n",
       "263723       2.0      50.00   76.000000     100.0             152.0         1   \n",
       "263724       2.0      50.00   76.000000     100.0             152.0         1   \n",
       "136723       2.0      67.50   96.500000     135.0             193.0         1   \n",
       "18007        3.0     161.33  186.000000     484.0             558.0         1   \n",
       "\n",
       "        Benefice  \n",
       "18448      -62.0  \n",
       "83176     -279.0  \n",
       "84627      -91.0  \n",
       "84643      -84.0  \n",
       "83179     -279.0  \n",
       "...          ...  \n",
       "263722      52.0  \n",
       "263723      52.0  \n",
       "263724      52.0  \n",
       "136723      58.0  \n",
       "18007       74.0  \n",
       "\n",
       "[299993 rows x 17 columns]"
      ]
     },
     "execution_count": 24,
     "metadata": {},
     "output_type": "execute_result"
    }
   ],
   "source": [
    "# Trier les données par la colonne 'date' en ordre croissant\n",
    "df_sorted = df.sort_values(by='Date', ascending=True)\n",
    "\n",
    "\n",
    "# Afficher les données triées\n",
    "df_sorted\n"
   ]
  },
  {
   "cell_type": "code",
   "execution_count": 25,
   "metadata": {},
   "outputs": [
    {
     "data": {
      "text/html": [
       "<div>\n",
       "<style scoped>\n",
       "    .dataframe tbody tr th:only-of-type {\n",
       "        vertical-align: middle;\n",
       "    }\n",
       "\n",
       "    .dataframe tbody tr th {\n",
       "        vertical-align: top;\n",
       "    }\n",
       "\n",
       "    .dataframe thead th {\n",
       "        text-align: right;\n",
       "    }\n",
       "</style>\n",
       "<table border=\"1\" class=\"dataframe\">\n",
       "  <thead>\n",
       "    <tr style=\"text-align: right;\">\n",
       "      <th></th>\n",
       "      <th>Year</th>\n",
       "      <th>Month</th>\n",
       "      <th>index</th>\n",
       "      <th>Customer Age</th>\n",
       "      <th>Quantity</th>\n",
       "      <th>Unit Cost</th>\n",
       "      <th>Unit Price</th>\n",
       "      <th>Cout_tot</th>\n",
       "      <th>Chiffre_affaires</th>\n",
       "      <th>Semestre</th>\n",
       "      <th>Benefice</th>\n",
       "    </tr>\n",
       "  </thead>\n",
       "  <tbody>\n",
       "    <tr>\n",
       "      <th>0</th>\n",
       "      <td>2015</td>\n",
       "      <td>1</td>\n",
       "      <td>19273277</td>\n",
       "      <td>42609.0</td>\n",
       "      <td>2339.0</td>\n",
       "      <td>1231670.27</td>\n",
       "      <td>1.200371e+06</td>\n",
       "      <td>2014256.0</td>\n",
       "      <td>1952516.0</td>\n",
       "      <td>1197</td>\n",
       "      <td>-61740.0</td>\n",
       "    </tr>\n",
       "    <tr>\n",
       "      <th>1</th>\n",
       "      <td>2015</td>\n",
       "      <td>2</td>\n",
       "      <td>22215036</td>\n",
       "      <td>42346.0</td>\n",
       "      <td>2550.0</td>\n",
       "      <td>1427554.57</td>\n",
       "      <td>1.404010e+06</td>\n",
       "      <td>2266291.0</td>\n",
       "      <td>2231873.0</td>\n",
       "      <td>1334</td>\n",
       "      <td>-34418.0</td>\n",
       "    </tr>\n",
       "    <tr>\n",
       "      <th>2</th>\n",
       "      <td>2015</td>\n",
       "      <td>3</td>\n",
       "      <td>19861280</td>\n",
       "      <td>45072.0</td>\n",
       "      <td>2565.0</td>\n",
       "      <td>1353620.76</td>\n",
       "      <td>1.335820e+06</td>\n",
       "      <td>2215895.0</td>\n",
       "      <td>2166677.0</td>\n",
       "      <td>1274</td>\n",
       "      <td>-49218.0</td>\n",
       "    </tr>\n",
       "    <tr>\n",
       "      <th>3</th>\n",
       "      <td>2015</td>\n",
       "      <td>4</td>\n",
       "      <td>26749461</td>\n",
       "      <td>50344.0</td>\n",
       "      <td>2994.0</td>\n",
       "      <td>1566463.70</td>\n",
       "      <td>1.533014e+06</td>\n",
       "      <td>2490361.0</td>\n",
       "      <td>2436381.0</td>\n",
       "      <td>1520</td>\n",
       "      <td>-53980.0</td>\n",
       "    </tr>\n",
       "    <tr>\n",
       "      <th>4</th>\n",
       "      <td>2015</td>\n",
       "      <td>5</td>\n",
       "      <td>28885569</td>\n",
       "      <td>65035.0</td>\n",
       "      <td>3720.0</td>\n",
       "      <td>1717383.74</td>\n",
       "      <td>1.686741e+06</td>\n",
       "      <td>2903025.0</td>\n",
       "      <td>2839848.0</td>\n",
       "      <td>1790</td>\n",
       "      <td>-63177.0</td>\n",
       "    </tr>\n",
       "    <tr>\n",
       "      <th>5</th>\n",
       "      <td>2015</td>\n",
       "      <td>6</td>\n",
       "      <td>25040519</td>\n",
       "      <td>63959.0</td>\n",
       "      <td>3503.0</td>\n",
       "      <td>1848136.65</td>\n",
       "      <td>1.821984e+06</td>\n",
       "      <td>2999453.0</td>\n",
       "      <td>2920275.0</td>\n",
       "      <td>1763</td>\n",
       "      <td>-79178.0</td>\n",
       "    </tr>\n",
       "    <tr>\n",
       "      <th>6</th>\n",
       "      <td>2015</td>\n",
       "      <td>7</td>\n",
       "      <td>128252090</td>\n",
       "      <td>285809.0</td>\n",
       "      <td>16050.0</td>\n",
       "      <td>4149204.33</td>\n",
       "      <td>4.222054e+06</td>\n",
       "      <td>6663761.0</td>\n",
       "      <td>6796779.0</td>\n",
       "      <td>8091</td>\n",
       "      <td>133018.0</td>\n",
       "    </tr>\n",
       "    <tr>\n",
       "      <th>7</th>\n",
       "      <td>2015</td>\n",
       "      <td>8</td>\n",
       "      <td>353990074</td>\n",
       "      <td>727962.0</td>\n",
       "      <td>40606.0</td>\n",
       "      <td>6192423.49</td>\n",
       "      <td>6.535575e+06</td>\n",
       "      <td>10176903.0</td>\n",
       "      <td>10768609.0</td>\n",
       "      <td>40230</td>\n",
       "      <td>591706.0</td>\n",
       "    </tr>\n",
       "    <tr>\n",
       "      <th>8</th>\n",
       "      <td>2015</td>\n",
       "      <td>9</td>\n",
       "      <td>346702194</td>\n",
       "      <td>708005.0</td>\n",
       "      <td>39038.0</td>\n",
       "      <td>6313927.88</td>\n",
       "      <td>6.616899e+06</td>\n",
       "      <td>10430514.0</td>\n",
       "      <td>10962579.0</td>\n",
       "      <td>39226</td>\n",
       "      <td>532065.0</td>\n",
       "    </tr>\n",
       "    <tr>\n",
       "      <th>9</th>\n",
       "      <td>2015</td>\n",
       "      <td>10</td>\n",
       "      <td>384526227</td>\n",
       "      <td>752294.0</td>\n",
       "      <td>44143.0</td>\n",
       "      <td>6612753.17</td>\n",
       "      <td>6.950833e+06</td>\n",
       "      <td>11240085.0</td>\n",
       "      <td>11764687.0</td>\n",
       "      <td>43774</td>\n",
       "      <td>524602.0</td>\n",
       "    </tr>\n",
       "    <tr>\n",
       "      <th>10</th>\n",
       "      <td>2015</td>\n",
       "      <td>11</td>\n",
       "      <td>379711296</td>\n",
       "      <td>794951.0</td>\n",
       "      <td>43144.0</td>\n",
       "      <td>7406240.57</td>\n",
       "      <td>7.688829e+06</td>\n",
       "      <td>12054658.0</td>\n",
       "      <td>12536840.0</td>\n",
       "      <td>43114</td>\n",
       "      <td>482182.0</td>\n",
       "    </tr>\n",
       "    <tr>\n",
       "      <th>11</th>\n",
       "      <td>2015</td>\n",
       "      <td>12</td>\n",
       "      <td>510354127</td>\n",
       "      <td>1037612.0</td>\n",
       "      <td>57741.0</td>\n",
       "      <td>10612326.75</td>\n",
       "      <td>1.099144e+07</td>\n",
       "      <td>17357947.0</td>\n",
       "      <td>17958929.0</td>\n",
       "      <td>58228</td>\n",
       "      <td>600982.0</td>\n",
       "    </tr>\n",
       "    <tr>\n",
       "      <th>12</th>\n",
       "      <td>2016</td>\n",
       "      <td>1</td>\n",
       "      <td>401339406</td>\n",
       "      <td>904317.0</td>\n",
       "      <td>47147.0</td>\n",
       "      <td>7568599.58</td>\n",
       "      <td>9.012804e+06</td>\n",
       "      <td>12380077.0</td>\n",
       "      <td>14758821.0</td>\n",
       "      <td>23710</td>\n",
       "      <td>2378744.0</td>\n",
       "    </tr>\n",
       "    <tr>\n",
       "      <th>13</th>\n",
       "      <td>2016</td>\n",
       "      <td>2</td>\n",
       "      <td>411173562</td>\n",
       "      <td>880665.0</td>\n",
       "      <td>48076.0</td>\n",
       "      <td>7575097.28</td>\n",
       "      <td>8.922477e+06</td>\n",
       "      <td>12664780.0</td>\n",
       "      <td>14916867.0</td>\n",
       "      <td>23616</td>\n",
       "      <td>2252087.0</td>\n",
       "    </tr>\n",
       "    <tr>\n",
       "      <th>14</th>\n",
       "      <td>2016</td>\n",
       "      <td>3</td>\n",
       "      <td>448132147</td>\n",
       "      <td>951195.0</td>\n",
       "      <td>51941.0</td>\n",
       "      <td>8348607.57</td>\n",
       "      <td>9.945344e+06</td>\n",
       "      <td>13837992.0</td>\n",
       "      <td>16442413.0</td>\n",
       "      <td>25859</td>\n",
       "      <td>2604421.0</td>\n",
       "    </tr>\n",
       "    <tr>\n",
       "      <th>15</th>\n",
       "      <td>2016</td>\n",
       "      <td>4</td>\n",
       "      <td>467732439</td>\n",
       "      <td>960663.0</td>\n",
       "      <td>53090.0</td>\n",
       "      <td>8259874.58</td>\n",
       "      <td>9.843990e+06</td>\n",
       "      <td>13797011.0</td>\n",
       "      <td>16433804.0</td>\n",
       "      <td>26491</td>\n",
       "      <td>2636793.0</td>\n",
       "    </tr>\n",
       "    <tr>\n",
       "      <th>16</th>\n",
       "      <td>2016</td>\n",
       "      <td>5</td>\n",
       "      <td>533659534</td>\n",
       "      <td>1097006.0</td>\n",
       "      <td>59207.0</td>\n",
       "      <td>10346113.29</td>\n",
       "      <td>1.222196e+07</td>\n",
       "      <td>16716440.0</td>\n",
       "      <td>19759023.0</td>\n",
       "      <td>29890</td>\n",
       "      <td>3042583.0</td>\n",
       "    </tr>\n",
       "    <tr>\n",
       "      <th>17</th>\n",
       "      <td>2016</td>\n",
       "      <td>6</td>\n",
       "      <td>518883198</td>\n",
       "      <td>1087126.0</td>\n",
       "      <td>59921.0</td>\n",
       "      <td>10475519.08</td>\n",
       "      <td>1.232956e+07</td>\n",
       "      <td>17263048.0</td>\n",
       "      <td>20350217.0</td>\n",
       "      <td>30037</td>\n",
       "      <td>3087169.0</td>\n",
       "    </tr>\n",
       "    <tr>\n",
       "      <th>18</th>\n",
       "      <td>2016</td>\n",
       "      <td>7</td>\n",
       "      <td>202486813</td>\n",
       "      <td>415768.0</td>\n",
       "      <td>22466.0</td>\n",
       "      <td>2023787.74</td>\n",
       "      <td>2.597481e+06</td>\n",
       "      <td>3323312.0</td>\n",
       "      <td>4239877.0</td>\n",
       "      <td>11135</td>\n",
       "      <td>916565.0</td>\n",
       "    </tr>\n",
       "  </tbody>\n",
       "</table>\n",
       "</div>"
      ],
      "text/plain": [
       "    Year  Month      index  Customer Age  Quantity    Unit Cost    Unit Price  \\\n",
       "0   2015      1   19273277       42609.0    2339.0   1231670.27  1.200371e+06   \n",
       "1   2015      2   22215036       42346.0    2550.0   1427554.57  1.404010e+06   \n",
       "2   2015      3   19861280       45072.0    2565.0   1353620.76  1.335820e+06   \n",
       "3   2015      4   26749461       50344.0    2994.0   1566463.70  1.533014e+06   \n",
       "4   2015      5   28885569       65035.0    3720.0   1717383.74  1.686741e+06   \n",
       "5   2015      6   25040519       63959.0    3503.0   1848136.65  1.821984e+06   \n",
       "6   2015      7  128252090      285809.0   16050.0   4149204.33  4.222054e+06   \n",
       "7   2015      8  353990074      727962.0   40606.0   6192423.49  6.535575e+06   \n",
       "8   2015      9  346702194      708005.0   39038.0   6313927.88  6.616899e+06   \n",
       "9   2015     10  384526227      752294.0   44143.0   6612753.17  6.950833e+06   \n",
       "10  2015     11  379711296      794951.0   43144.0   7406240.57  7.688829e+06   \n",
       "11  2015     12  510354127     1037612.0   57741.0  10612326.75  1.099144e+07   \n",
       "12  2016      1  401339406      904317.0   47147.0   7568599.58  9.012804e+06   \n",
       "13  2016      2  411173562      880665.0   48076.0   7575097.28  8.922477e+06   \n",
       "14  2016      3  448132147      951195.0   51941.0   8348607.57  9.945344e+06   \n",
       "15  2016      4  467732439      960663.0   53090.0   8259874.58  9.843990e+06   \n",
       "16  2016      5  533659534     1097006.0   59207.0  10346113.29  1.222196e+07   \n",
       "17  2016      6  518883198     1087126.0   59921.0  10475519.08  1.232956e+07   \n",
       "18  2016      7  202486813      415768.0   22466.0   2023787.74  2.597481e+06   \n",
       "\n",
       "      Cout_tot  Chiffre_affaires  Semestre   Benefice  \n",
       "0    2014256.0         1952516.0      1197   -61740.0  \n",
       "1    2266291.0         2231873.0      1334   -34418.0  \n",
       "2    2215895.0         2166677.0      1274   -49218.0  \n",
       "3    2490361.0         2436381.0      1520   -53980.0  \n",
       "4    2903025.0         2839848.0      1790   -63177.0  \n",
       "5    2999453.0         2920275.0      1763   -79178.0  \n",
       "6    6663761.0         6796779.0      8091   133018.0  \n",
       "7   10176903.0        10768609.0     40230   591706.0  \n",
       "8   10430514.0        10962579.0     39226   532065.0  \n",
       "9   11240085.0        11764687.0     43774   524602.0  \n",
       "10  12054658.0        12536840.0     43114   482182.0  \n",
       "11  17357947.0        17958929.0     58228   600982.0  \n",
       "12  12380077.0        14758821.0     23710  2378744.0  \n",
       "13  12664780.0        14916867.0     23616  2252087.0  \n",
       "14  13837992.0        16442413.0     25859  2604421.0  \n",
       "15  13797011.0        16433804.0     26491  2636793.0  \n",
       "16  16716440.0        19759023.0     29890  3042583.0  \n",
       "17  17263048.0        20350217.0     30037  3087169.0  \n",
       "18   3323312.0         4239877.0     11135   916565.0  "
      ]
     },
     "execution_count": 25,
     "metadata": {},
     "output_type": "execute_result"
    }
   ],
   "source": [
    "# Regrouper les données par 'Year' et 'Month', en effectuant une agrégation\n",
    "df_grouped = df.groupby(['Year', 'Month']).sum(numeric_only=True).reset_index()\n",
    "df_grouped \n"
   ]
  },
  {
   "cell_type": "code",
   "execution_count": 26,
   "metadata": {},
   "outputs": [
    {
     "data": {
      "application/vnd.plotly.v1+json": {
       "config": {
        "plotlyServerURL": "https://plot.ly"
       },
       "data": [
        {
         "marker": {
          "color": "skyblue"
         },
         "name": "Bénéfice 2015",
         "type": "bar",
         "x": [
          1,
          2,
          3,
          4,
          5,
          6,
          7,
          8,
          9,
          10,
          11,
          12
         ],
         "xaxis": "x",
         "y": [
          -61740,
          -34418,
          -49218,
          -53980,
          -63177,
          -79178,
          133018,
          591706,
          532065,
          524602,
          482182,
          600982
         ],
         "yaxis": "y"
        },
        {
         "marker": {
          "color": "lightgreen"
         },
         "name": "Bénéfice 2016",
         "type": "bar",
         "x": [
          1,
          2,
          3,
          4,
          5,
          6,
          7
         ],
         "xaxis": "x",
         "y": [
          2378744,
          2252087,
          2604421,
          2636793,
          3042583,
          3087169,
          916565
         ],
         "yaxis": "y"
        },
        {
         "marker": {
          "color": "skyblue"
         },
         "name": "Coût 2015",
         "type": "bar",
         "x": [
          1,
          2,
          3,
          4,
          5,
          6,
          7,
          8,
          9,
          10,
          11,
          12
         ],
         "xaxis": "x2",
         "y": [
          2014256,
          2266291,
          2215895,
          2490361,
          2903025,
          2999453,
          6663761,
          10176903,
          10430514,
          11240085,
          12054658,
          17357947
         ],
         "yaxis": "y2"
        },
        {
         "line": {
          "color": "orange",
          "shape": "linear"
         },
         "mode": "lines",
         "name": "Revenu Total 2015",
         "type": "scatter",
         "x": [
          1,
          2,
          3,
          4,
          5,
          6,
          7,
          8,
          9,
          10,
          11,
          12
         ],
         "xaxis": "x2",
         "y": [
          1952516,
          2231873,
          2166677,
          2436381,
          2839848,
          2920275,
          6796779,
          10768609,
          10962579,
          11764687,
          12536840,
          17958929
         ],
         "yaxis": "y2"
        },
        {
         "marker": {
          "color": "lightgreen"
         },
         "name": "Coût 2016",
         "type": "bar",
         "x": [
          1,
          2,
          3,
          4,
          5,
          6,
          7
         ],
         "xaxis": "x2",
         "y": [
          12380077,
          12664780,
          13837992,
          13797011,
          16716440,
          17263048,
          3323312
         ],
         "yaxis": "y2"
        },
        {
         "line": {
          "color": "red",
          "shape": "linear"
         },
         "mode": "lines",
         "name": "Revenu Total 2016",
         "type": "scatter",
         "x": [
          1,
          2,
          3,
          4,
          5,
          6,
          7
         ],
         "xaxis": "x2",
         "y": [
          14758821,
          14916867,
          16442413,
          16433804,
          19759023,
          20350217,
          4239877
         ],
         "yaxis": "y2"
        }
       ],
       "layout": {
        "annotations": [
         {
          "font": {
           "size": 16
          },
          "showarrow": false,
          "text": "Bénéfice par Mois et Année",
          "x": 0.225,
          "xanchor": "center",
          "xref": "paper",
          "y": 1,
          "yanchor": "bottom",
          "yref": "paper"
         },
         {
          "font": {
           "size": 16
          },
          "showarrow": false,
          "text": "Coût et Revenu Total par Mois et Année",
          "x": 0.775,
          "xanchor": "center",
          "xref": "paper",
          "y": 1,
          "yanchor": "bottom",
          "yref": "paper"
         }
        ],
        "barmode": "group",
        "height": 500,
        "showlegend": true,
        "template": {
         "data": {
          "bar": [
           {
            "error_x": {
             "color": "#2a3f5f"
            },
            "error_y": {
             "color": "#2a3f5f"
            },
            "marker": {
             "line": {
              "color": "#E5ECF6",
              "width": 0.5
             },
             "pattern": {
              "fillmode": "overlay",
              "size": 10,
              "solidity": 0.2
             }
            },
            "type": "bar"
           }
          ],
          "barpolar": [
           {
            "marker": {
             "line": {
              "color": "#E5ECF6",
              "width": 0.5
             },
             "pattern": {
              "fillmode": "overlay",
              "size": 10,
              "solidity": 0.2
             }
            },
            "type": "barpolar"
           }
          ],
          "carpet": [
           {
            "aaxis": {
             "endlinecolor": "#2a3f5f",
             "gridcolor": "white",
             "linecolor": "white",
             "minorgridcolor": "white",
             "startlinecolor": "#2a3f5f"
            },
            "baxis": {
             "endlinecolor": "#2a3f5f",
             "gridcolor": "white",
             "linecolor": "white",
             "minorgridcolor": "white",
             "startlinecolor": "#2a3f5f"
            },
            "type": "carpet"
           }
          ],
          "choropleth": [
           {
            "colorbar": {
             "outlinewidth": 0,
             "ticks": ""
            },
            "type": "choropleth"
           }
          ],
          "contour": [
           {
            "colorbar": {
             "outlinewidth": 0,
             "ticks": ""
            },
            "colorscale": [
             [
              0,
              "#0d0887"
             ],
             [
              0.1111111111111111,
              "#46039f"
             ],
             [
              0.2222222222222222,
              "#7201a8"
             ],
             [
              0.3333333333333333,
              "#9c179e"
             ],
             [
              0.4444444444444444,
              "#bd3786"
             ],
             [
              0.5555555555555556,
              "#d8576b"
             ],
             [
              0.6666666666666666,
              "#ed7953"
             ],
             [
              0.7777777777777778,
              "#fb9f3a"
             ],
             [
              0.8888888888888888,
              "#fdca26"
             ],
             [
              1,
              "#f0f921"
             ]
            ],
            "type": "contour"
           }
          ],
          "contourcarpet": [
           {
            "colorbar": {
             "outlinewidth": 0,
             "ticks": ""
            },
            "type": "contourcarpet"
           }
          ],
          "heatmap": [
           {
            "colorbar": {
             "outlinewidth": 0,
             "ticks": ""
            },
            "colorscale": [
             [
              0,
              "#0d0887"
             ],
             [
              0.1111111111111111,
              "#46039f"
             ],
             [
              0.2222222222222222,
              "#7201a8"
             ],
             [
              0.3333333333333333,
              "#9c179e"
             ],
             [
              0.4444444444444444,
              "#bd3786"
             ],
             [
              0.5555555555555556,
              "#d8576b"
             ],
             [
              0.6666666666666666,
              "#ed7953"
             ],
             [
              0.7777777777777778,
              "#fb9f3a"
             ],
             [
              0.8888888888888888,
              "#fdca26"
             ],
             [
              1,
              "#f0f921"
             ]
            ],
            "type": "heatmap"
           }
          ],
          "heatmapgl": [
           {
            "colorbar": {
             "outlinewidth": 0,
             "ticks": ""
            },
            "colorscale": [
             [
              0,
              "#0d0887"
             ],
             [
              0.1111111111111111,
              "#46039f"
             ],
             [
              0.2222222222222222,
              "#7201a8"
             ],
             [
              0.3333333333333333,
              "#9c179e"
             ],
             [
              0.4444444444444444,
              "#bd3786"
             ],
             [
              0.5555555555555556,
              "#d8576b"
             ],
             [
              0.6666666666666666,
              "#ed7953"
             ],
             [
              0.7777777777777778,
              "#fb9f3a"
             ],
             [
              0.8888888888888888,
              "#fdca26"
             ],
             [
              1,
              "#f0f921"
             ]
            ],
            "type": "heatmapgl"
           }
          ],
          "histogram": [
           {
            "marker": {
             "pattern": {
              "fillmode": "overlay",
              "size": 10,
              "solidity": 0.2
             }
            },
            "type": "histogram"
           }
          ],
          "histogram2d": [
           {
            "colorbar": {
             "outlinewidth": 0,
             "ticks": ""
            },
            "colorscale": [
             [
              0,
              "#0d0887"
             ],
             [
              0.1111111111111111,
              "#46039f"
             ],
             [
              0.2222222222222222,
              "#7201a8"
             ],
             [
              0.3333333333333333,
              "#9c179e"
             ],
             [
              0.4444444444444444,
              "#bd3786"
             ],
             [
              0.5555555555555556,
              "#d8576b"
             ],
             [
              0.6666666666666666,
              "#ed7953"
             ],
             [
              0.7777777777777778,
              "#fb9f3a"
             ],
             [
              0.8888888888888888,
              "#fdca26"
             ],
             [
              1,
              "#f0f921"
             ]
            ],
            "type": "histogram2d"
           }
          ],
          "histogram2dcontour": [
           {
            "colorbar": {
             "outlinewidth": 0,
             "ticks": ""
            },
            "colorscale": [
             [
              0,
              "#0d0887"
             ],
             [
              0.1111111111111111,
              "#46039f"
             ],
             [
              0.2222222222222222,
              "#7201a8"
             ],
             [
              0.3333333333333333,
              "#9c179e"
             ],
             [
              0.4444444444444444,
              "#bd3786"
             ],
             [
              0.5555555555555556,
              "#d8576b"
             ],
             [
              0.6666666666666666,
              "#ed7953"
             ],
             [
              0.7777777777777778,
              "#fb9f3a"
             ],
             [
              0.8888888888888888,
              "#fdca26"
             ],
             [
              1,
              "#f0f921"
             ]
            ],
            "type": "histogram2dcontour"
           }
          ],
          "mesh3d": [
           {
            "colorbar": {
             "outlinewidth": 0,
             "ticks": ""
            },
            "type": "mesh3d"
           }
          ],
          "parcoords": [
           {
            "line": {
             "colorbar": {
              "outlinewidth": 0,
              "ticks": ""
             }
            },
            "type": "parcoords"
           }
          ],
          "pie": [
           {
            "automargin": true,
            "type": "pie"
           }
          ],
          "scatter": [
           {
            "fillpattern": {
             "fillmode": "overlay",
             "size": 10,
             "solidity": 0.2
            },
            "type": "scatter"
           }
          ],
          "scatter3d": [
           {
            "line": {
             "colorbar": {
              "outlinewidth": 0,
              "ticks": ""
             }
            },
            "marker": {
             "colorbar": {
              "outlinewidth": 0,
              "ticks": ""
             }
            },
            "type": "scatter3d"
           }
          ],
          "scattercarpet": [
           {
            "marker": {
             "colorbar": {
              "outlinewidth": 0,
              "ticks": ""
             }
            },
            "type": "scattercarpet"
           }
          ],
          "scattergeo": [
           {
            "marker": {
             "colorbar": {
              "outlinewidth": 0,
              "ticks": ""
             }
            },
            "type": "scattergeo"
           }
          ],
          "scattergl": [
           {
            "marker": {
             "colorbar": {
              "outlinewidth": 0,
              "ticks": ""
             }
            },
            "type": "scattergl"
           }
          ],
          "scattermapbox": [
           {
            "marker": {
             "colorbar": {
              "outlinewidth": 0,
              "ticks": ""
             }
            },
            "type": "scattermapbox"
           }
          ],
          "scatterpolar": [
           {
            "marker": {
             "colorbar": {
              "outlinewidth": 0,
              "ticks": ""
             }
            },
            "type": "scatterpolar"
           }
          ],
          "scatterpolargl": [
           {
            "marker": {
             "colorbar": {
              "outlinewidth": 0,
              "ticks": ""
             }
            },
            "type": "scatterpolargl"
           }
          ],
          "scatterternary": [
           {
            "marker": {
             "colorbar": {
              "outlinewidth": 0,
              "ticks": ""
             }
            },
            "type": "scatterternary"
           }
          ],
          "surface": [
           {
            "colorbar": {
             "outlinewidth": 0,
             "ticks": ""
            },
            "colorscale": [
             [
              0,
              "#0d0887"
             ],
             [
              0.1111111111111111,
              "#46039f"
             ],
             [
              0.2222222222222222,
              "#7201a8"
             ],
             [
              0.3333333333333333,
              "#9c179e"
             ],
             [
              0.4444444444444444,
              "#bd3786"
             ],
             [
              0.5555555555555556,
              "#d8576b"
             ],
             [
              0.6666666666666666,
              "#ed7953"
             ],
             [
              0.7777777777777778,
              "#fb9f3a"
             ],
             [
              0.8888888888888888,
              "#fdca26"
             ],
             [
              1,
              "#f0f921"
             ]
            ],
            "type": "surface"
           }
          ],
          "table": [
           {
            "cells": {
             "fill": {
              "color": "#EBF0F8"
             },
             "line": {
              "color": "white"
             }
            },
            "header": {
             "fill": {
              "color": "#C8D4E3"
             },
             "line": {
              "color": "white"
             }
            },
            "type": "table"
           }
          ]
         },
         "layout": {
          "annotationdefaults": {
           "arrowcolor": "#2a3f5f",
           "arrowhead": 0,
           "arrowwidth": 1
          },
          "autotypenumbers": "strict",
          "coloraxis": {
           "colorbar": {
            "outlinewidth": 0,
            "ticks": ""
           }
          },
          "colorscale": {
           "diverging": [
            [
             0,
             "#8e0152"
            ],
            [
             0.1,
             "#c51b7d"
            ],
            [
             0.2,
             "#de77ae"
            ],
            [
             0.3,
             "#f1b6da"
            ],
            [
             0.4,
             "#fde0ef"
            ],
            [
             0.5,
             "#f7f7f7"
            ],
            [
             0.6,
             "#e6f5d0"
            ],
            [
             0.7,
             "#b8e186"
            ],
            [
             0.8,
             "#7fbc41"
            ],
            [
             0.9,
             "#4d9221"
            ],
            [
             1,
             "#276419"
            ]
           ],
           "sequential": [
            [
             0,
             "#0d0887"
            ],
            [
             0.1111111111111111,
             "#46039f"
            ],
            [
             0.2222222222222222,
             "#7201a8"
            ],
            [
             0.3333333333333333,
             "#9c179e"
            ],
            [
             0.4444444444444444,
             "#bd3786"
            ],
            [
             0.5555555555555556,
             "#d8576b"
            ],
            [
             0.6666666666666666,
             "#ed7953"
            ],
            [
             0.7777777777777778,
             "#fb9f3a"
            ],
            [
             0.8888888888888888,
             "#fdca26"
            ],
            [
             1,
             "#f0f921"
            ]
           ],
           "sequentialminus": [
            [
             0,
             "#0d0887"
            ],
            [
             0.1111111111111111,
             "#46039f"
            ],
            [
             0.2222222222222222,
             "#7201a8"
            ],
            [
             0.3333333333333333,
             "#9c179e"
            ],
            [
             0.4444444444444444,
             "#bd3786"
            ],
            [
             0.5555555555555556,
             "#d8576b"
            ],
            [
             0.6666666666666666,
             "#ed7953"
            ],
            [
             0.7777777777777778,
             "#fb9f3a"
            ],
            [
             0.8888888888888888,
             "#fdca26"
            ],
            [
             1,
             "#f0f921"
            ]
           ]
          },
          "colorway": [
           "#636efa",
           "#EF553B",
           "#00cc96",
           "#ab63fa",
           "#FFA15A",
           "#19d3f3",
           "#FF6692",
           "#B6E880",
           "#FF97FF",
           "#FECB52"
          ],
          "font": {
           "color": "#2a3f5f"
          },
          "geo": {
           "bgcolor": "white",
           "lakecolor": "white",
           "landcolor": "#E5ECF6",
           "showlakes": true,
           "showland": true,
           "subunitcolor": "white"
          },
          "hoverlabel": {
           "align": "left"
          },
          "hovermode": "closest",
          "mapbox": {
           "style": "light"
          },
          "paper_bgcolor": "white",
          "plot_bgcolor": "#E5ECF6",
          "polar": {
           "angularaxis": {
            "gridcolor": "white",
            "linecolor": "white",
            "ticks": ""
           },
           "bgcolor": "#E5ECF6",
           "radialaxis": {
            "gridcolor": "white",
            "linecolor": "white",
            "ticks": ""
           }
          },
          "scene": {
           "xaxis": {
            "backgroundcolor": "#E5ECF6",
            "gridcolor": "white",
            "gridwidth": 2,
            "linecolor": "white",
            "showbackground": true,
            "ticks": "",
            "zerolinecolor": "white"
           },
           "yaxis": {
            "backgroundcolor": "#E5ECF6",
            "gridcolor": "white",
            "gridwidth": 2,
            "linecolor": "white",
            "showbackground": true,
            "ticks": "",
            "zerolinecolor": "white"
           },
           "zaxis": {
            "backgroundcolor": "#E5ECF6",
            "gridcolor": "white",
            "gridwidth": 2,
            "linecolor": "white",
            "showbackground": true,
            "ticks": "",
            "zerolinecolor": "white"
           }
          },
          "shapedefaults": {
           "line": {
            "color": "#2a3f5f"
           }
          },
          "ternary": {
           "aaxis": {
            "gridcolor": "white",
            "linecolor": "white",
            "ticks": ""
           },
           "baxis": {
            "gridcolor": "white",
            "linecolor": "white",
            "ticks": ""
           },
           "bgcolor": "#E5ECF6",
           "caxis": {
            "gridcolor": "white",
            "linecolor": "white",
            "ticks": ""
           }
          },
          "title": {
           "x": 0.05
          },
          "xaxis": {
           "automargin": true,
           "gridcolor": "white",
           "linecolor": "white",
           "ticks": "",
           "title": {
            "standoff": 15
           },
           "zerolinecolor": "white",
           "zerolinewidth": 2
          },
          "yaxis": {
           "automargin": true,
           "gridcolor": "white",
           "linecolor": "white",
           "ticks": "",
           "title": {
            "standoff": 15
           },
           "zerolinecolor": "white",
           "zerolinewidth": 2
          }
         }
        },
        "title": {
         "text": "Bénéfices, Coûts et Revenu Total par Mois et Année"
        },
        "width": 1000,
        "xaxis": {
         "anchor": "y",
         "domain": [
          0,
          0.45
         ],
         "title": {
          "text": "Mois"
         }
        },
        "xaxis2": {
         "anchor": "y2",
         "domain": [
          0.55,
          1
         ]
        },
        "yaxis": {
         "anchor": "x",
         "domain": [
          0,
          1
         ],
         "title": {
          "text": "Valeur"
         }
        },
        "yaxis2": {
         "anchor": "x2",
         "domain": [
          0,
          1
         ]
        }
       }
      }
     },
     "metadata": {},
     "output_type": "display_data"
    }
   ],
   "source": [
    "import plotly.graph_objects as go\n",
    "from plotly.subplots import make_subplots\n",
    "\n",
    "# Créer une figure avec deux sous-graphiques pour les bénéfices et les coûts\n",
    "fig = make_subplots(\n",
    "    rows=1, cols=2,  # 1 ligne, 2 colonnes (pour les bénéfices et les coûts)\n",
    "    subplot_titles=['Bénéfice par Mois et Année', 'Coût et Revenu Total par Mois et Année']\n",
    ")\n",
    "\n",
    "# Définir les couleurs pour chaque année pour les barres (bénéfices et coûts)\n",
    "bar_colors = {\n",
    "    2015: 'skyblue',  # Couleur pour 2015\n",
    "    2016: 'lightgreen'  # Couleur pour 2016\n",
    "}\n",
    "\n",
    "# Définir les couleurs pour les courbes de revenu (RT)\n",
    "line_colors = {\n",
    "    2015: 'orange',  # Couleur pour Revenu 2015\n",
    "    2016: 'red'  # Couleur pour Revenu 2016\n",
    "}\n",
    "\n",
    "# Ajouter les barres pour les bénéfices\n",
    "for year in df_grouped['Year'].unique():\n",
    "    filtered_df = df_grouped[df_grouped['Year'] == year]\n",
    "    \n",
    "    # Ajouter un diagramme de bâtons pour les bénéfices\n",
    "    fig.add_trace(\n",
    "        go.Bar(\n",
    "            x=filtered_df['Month'],  # Mois\n",
    "            y=filtered_df['Benefice'],  # Bénéfice\n",
    "            name=f'Bénéfice {year}',  # Nom de la trace (légende)\n",
    "            marker=dict(color=bar_colors.get(year, 'gray'))  # Appliquer la couleur correspondante\n",
    "        ),\n",
    "        row=1, col=1  # Placer dans le premier sous-graphe\n",
    "    )\n",
    "\n",
    "# Ajouter les barres pour les coûts et la courbe du revenu total avec couleurs distinctes\n",
    "for year in df_grouped['Year'].unique():\n",
    "    filtered_df = df_grouped[df_grouped['Year'] == year]\n",
    "    \n",
    "    # Ajouter un diagramme de bâtons pour les coûts\n",
    "    fig.add_trace(\n",
    "        go.Bar(\n",
    "            x=filtered_df['Month'],  # Mois\n",
    "            y=filtered_df['Cout_tot'],  # Coût\n",
    "            name=f'Coût {year}',  # Nom de la trace (légende)\n",
    "            marker=dict(color=bar_colors.get(year, 'red'))  # Appliquer la couleur correspondante\n",
    "        ),\n",
    "        row=1, col=2  # Placer dans le second sous-graphe (Coûts)\n",
    "    )\n",
    "    \n",
    "    # Ajouter la courbe pour le Revenu Total avec couleur distincte\n",
    "    fig.add_trace(\n",
    "        go.Scatter(\n",
    "            x=filtered_df['Month'],  # Mois\n",
    "            y=filtered_df['Chiffre_affaires'],  # Revenu Total (RT)\n",
    "            mode='lines',  # Ligne continue\n",
    "            name=f'Revenu Total {year}',  # Nom de la trace (légende)\n",
    "            line=dict(shape='linear', color=line_colors.get(year, 'gray'))  # Couleur distincte pour chaque année\n",
    "        ),\n",
    "        row=1, col=2  # Placer dans le graphique des coûts\n",
    "    )\n",
    "\n",
    "# Mise à jour de la mise en page\n",
    "fig.update_layout(\n",
    "    title='Bénéfices, Coûts et Revenu Total par Mois et Année',\n",
    "    xaxis_title='Mois',\n",
    "    yaxis_title='Valeur',\n",
    "    barmode='group',  # Barres groupées pour chaque mois\n",
    "    height=500,  # Hauteur de la figure\n",
    "    width=1000,  # Largeur de la figure\n",
    "    showlegend=True  # Afficher la légende\n",
    ")\n",
    "\n",
    "# Afficher la figure\n",
    "fig.show()\n"
   ]
  },
  {
   "cell_type": "code",
   "execution_count": 28,
   "metadata": {},
   "outputs": [
    {
     "data": {
      "application/vnd.plotly.v1+json": {
       "config": {
        "plotlyServerURL": "https://plot.ly"
       },
       "data": [
        {
         "hovertemplate": "Pays=France<br>Mois=%{x}<br>Bénéfices=%{y}<extra></extra>",
         "legendgroup": "France",
         "line": {
          "color": "rgb(102,194,165)",
          "dash": "solid",
          "shape": "linear"
         },
         "marker": {
          "symbol": "circle"
         },
         "mode": "lines",
         "name": "France",
         "orientation": "v",
         "showlegend": true,
         "type": "scatter",
         "x": [
          1,
          2,
          3,
          4,
          5,
          6,
          7,
          8,
          9,
          10,
          11,
          12
         ],
         "xaxis": "x",
         "y": [
          303784,
          287410,
          305707,
          375020,
          336116,
          353014,
          87925,
          90648,
          35953,
          31396,
          63632,
          47668
         ],
         "yaxis": "y"
        },
        {
         "hovertemplate": "Pays=Germany<br>Mois=%{x}<br>Bénéfices=%{y}<extra></extra>",
         "legendgroup": "Germany",
         "line": {
          "color": "rgb(252,141,98)",
          "dash": "solid",
          "shape": "linear"
         },
         "marker": {
          "symbol": "circle"
         },
         "mode": "lines",
         "name": "Germany",
         "orientation": "v",
         "showlegend": true,
         "type": "scatter",
         "x": [
          1,
          2,
          3,
          4,
          5,
          6,
          7,
          8,
          9,
          10,
          11,
          12
         ],
         "xaxis": "x",
         "y": [
          872507,
          794855,
          946395,
          953510,
          1184959,
          1156726,
          476604,
          344451,
          353572,
          338590,
          320191,
          517780
         ],
         "yaxis": "y"
        },
        {
         "hovertemplate": "Pays=United Kingdom<br>Mois=%{x}<br>Bénéfices=%{y}<extra></extra>",
         "legendgroup": "United Kingdom",
         "line": {
          "color": "rgb(141,160,203)",
          "dash": "solid",
          "shape": "linear"
         },
         "marker": {
          "symbol": "circle"
         },
         "mode": "lines",
         "name": "United Kingdom",
         "orientation": "v",
         "showlegend": true,
         "type": "scatter",
         "x": [
          1,
          2,
          3,
          4,
          5,
          6,
          7,
          8,
          9,
          10,
          11,
          12
         ],
         "xaxis": "x",
         "y": [
          346918,
          374181,
          431526,
          413050,
          413399,
          488201,
          140089,
          37859,
          55250,
          48060,
          39528,
          56323
         ],
         "yaxis": "y"
        },
        {
         "hovertemplate": "Pays=United States<br>Mois=%{x}<br>Bénéfices=%{y}<extra></extra>",
         "legendgroup": "United States",
         "line": {
          "color": "rgb(231,138,195)",
          "dash": "solid",
          "shape": "linear"
         },
         "marker": {
          "symbol": "circle"
         },
         "mode": "lines",
         "name": "United States",
         "orientation": "v",
         "showlegend": true,
         "type": "scatter",
         "x": [
          1,
          2,
          3,
          4,
          5,
          6,
          7,
          8,
          9,
          10,
          11,
          12
         ],
         "xaxis": "x",
         "y": [
          793795,
          761223,
          871575,
          841233,
          1044932,
          1010050,
          344965,
          118748,
          87290,
          106556,
          58831,
          -20789
         ],
         "yaxis": "y"
        }
       ],
       "layout": {
        "height": 600,
        "legend": {
         "title": {
          "text": "Pays"
         },
         "tracegroupgap": 0
        },
        "template": {
         "data": {
          "bar": [
           {
            "error_x": {
             "color": "#2a3f5f"
            },
            "error_y": {
             "color": "#2a3f5f"
            },
            "marker": {
             "line": {
              "color": "white",
              "width": 0.5
             },
             "pattern": {
              "fillmode": "overlay",
              "size": 10,
              "solidity": 0.2
             }
            },
            "type": "bar"
           }
          ],
          "barpolar": [
           {
            "marker": {
             "line": {
              "color": "white",
              "width": 0.5
             },
             "pattern": {
              "fillmode": "overlay",
              "size": 10,
              "solidity": 0.2
             }
            },
            "type": "barpolar"
           }
          ],
          "carpet": [
           {
            "aaxis": {
             "endlinecolor": "#2a3f5f",
             "gridcolor": "#C8D4E3",
             "linecolor": "#C8D4E3",
             "minorgridcolor": "#C8D4E3",
             "startlinecolor": "#2a3f5f"
            },
            "baxis": {
             "endlinecolor": "#2a3f5f",
             "gridcolor": "#C8D4E3",
             "linecolor": "#C8D4E3",
             "minorgridcolor": "#C8D4E3",
             "startlinecolor": "#2a3f5f"
            },
            "type": "carpet"
           }
          ],
          "choropleth": [
           {
            "colorbar": {
             "outlinewidth": 0,
             "ticks": ""
            },
            "type": "choropleth"
           }
          ],
          "contour": [
           {
            "colorbar": {
             "outlinewidth": 0,
             "ticks": ""
            },
            "colorscale": [
             [
              0,
              "#0d0887"
             ],
             [
              0.1111111111111111,
              "#46039f"
             ],
             [
              0.2222222222222222,
              "#7201a8"
             ],
             [
              0.3333333333333333,
              "#9c179e"
             ],
             [
              0.4444444444444444,
              "#bd3786"
             ],
             [
              0.5555555555555556,
              "#d8576b"
             ],
             [
              0.6666666666666666,
              "#ed7953"
             ],
             [
              0.7777777777777778,
              "#fb9f3a"
             ],
             [
              0.8888888888888888,
              "#fdca26"
             ],
             [
              1,
              "#f0f921"
             ]
            ],
            "type": "contour"
           }
          ],
          "contourcarpet": [
           {
            "colorbar": {
             "outlinewidth": 0,
             "ticks": ""
            },
            "type": "contourcarpet"
           }
          ],
          "heatmap": [
           {
            "colorbar": {
             "outlinewidth": 0,
             "ticks": ""
            },
            "colorscale": [
             [
              0,
              "#0d0887"
             ],
             [
              0.1111111111111111,
              "#46039f"
             ],
             [
              0.2222222222222222,
              "#7201a8"
             ],
             [
              0.3333333333333333,
              "#9c179e"
             ],
             [
              0.4444444444444444,
              "#bd3786"
             ],
             [
              0.5555555555555556,
              "#d8576b"
             ],
             [
              0.6666666666666666,
              "#ed7953"
             ],
             [
              0.7777777777777778,
              "#fb9f3a"
             ],
             [
              0.8888888888888888,
              "#fdca26"
             ],
             [
              1,
              "#f0f921"
             ]
            ],
            "type": "heatmap"
           }
          ],
          "heatmapgl": [
           {
            "colorbar": {
             "outlinewidth": 0,
             "ticks": ""
            },
            "colorscale": [
             [
              0,
              "#0d0887"
             ],
             [
              0.1111111111111111,
              "#46039f"
             ],
             [
              0.2222222222222222,
              "#7201a8"
             ],
             [
              0.3333333333333333,
              "#9c179e"
             ],
             [
              0.4444444444444444,
              "#bd3786"
             ],
             [
              0.5555555555555556,
              "#d8576b"
             ],
             [
              0.6666666666666666,
              "#ed7953"
             ],
             [
              0.7777777777777778,
              "#fb9f3a"
             ],
             [
              0.8888888888888888,
              "#fdca26"
             ],
             [
              1,
              "#f0f921"
             ]
            ],
            "type": "heatmapgl"
           }
          ],
          "histogram": [
           {
            "marker": {
             "pattern": {
              "fillmode": "overlay",
              "size": 10,
              "solidity": 0.2
             }
            },
            "type": "histogram"
           }
          ],
          "histogram2d": [
           {
            "colorbar": {
             "outlinewidth": 0,
             "ticks": ""
            },
            "colorscale": [
             [
              0,
              "#0d0887"
             ],
             [
              0.1111111111111111,
              "#46039f"
             ],
             [
              0.2222222222222222,
              "#7201a8"
             ],
             [
              0.3333333333333333,
              "#9c179e"
             ],
             [
              0.4444444444444444,
              "#bd3786"
             ],
             [
              0.5555555555555556,
              "#d8576b"
             ],
             [
              0.6666666666666666,
              "#ed7953"
             ],
             [
              0.7777777777777778,
              "#fb9f3a"
             ],
             [
              0.8888888888888888,
              "#fdca26"
             ],
             [
              1,
              "#f0f921"
             ]
            ],
            "type": "histogram2d"
           }
          ],
          "histogram2dcontour": [
           {
            "colorbar": {
             "outlinewidth": 0,
             "ticks": ""
            },
            "colorscale": [
             [
              0,
              "#0d0887"
             ],
             [
              0.1111111111111111,
              "#46039f"
             ],
             [
              0.2222222222222222,
              "#7201a8"
             ],
             [
              0.3333333333333333,
              "#9c179e"
             ],
             [
              0.4444444444444444,
              "#bd3786"
             ],
             [
              0.5555555555555556,
              "#d8576b"
             ],
             [
              0.6666666666666666,
              "#ed7953"
             ],
             [
              0.7777777777777778,
              "#fb9f3a"
             ],
             [
              0.8888888888888888,
              "#fdca26"
             ],
             [
              1,
              "#f0f921"
             ]
            ],
            "type": "histogram2dcontour"
           }
          ],
          "mesh3d": [
           {
            "colorbar": {
             "outlinewidth": 0,
             "ticks": ""
            },
            "type": "mesh3d"
           }
          ],
          "parcoords": [
           {
            "line": {
             "colorbar": {
              "outlinewidth": 0,
              "ticks": ""
             }
            },
            "type": "parcoords"
           }
          ],
          "pie": [
           {
            "automargin": true,
            "type": "pie"
           }
          ],
          "scatter": [
           {
            "fillpattern": {
             "fillmode": "overlay",
             "size": 10,
             "solidity": 0.2
            },
            "type": "scatter"
           }
          ],
          "scatter3d": [
           {
            "line": {
             "colorbar": {
              "outlinewidth": 0,
              "ticks": ""
             }
            },
            "marker": {
             "colorbar": {
              "outlinewidth": 0,
              "ticks": ""
             }
            },
            "type": "scatter3d"
           }
          ],
          "scattercarpet": [
           {
            "marker": {
             "colorbar": {
              "outlinewidth": 0,
              "ticks": ""
             }
            },
            "type": "scattercarpet"
           }
          ],
          "scattergeo": [
           {
            "marker": {
             "colorbar": {
              "outlinewidth": 0,
              "ticks": ""
             }
            },
            "type": "scattergeo"
           }
          ],
          "scattergl": [
           {
            "marker": {
             "colorbar": {
              "outlinewidth": 0,
              "ticks": ""
             }
            },
            "type": "scattergl"
           }
          ],
          "scattermapbox": [
           {
            "marker": {
             "colorbar": {
              "outlinewidth": 0,
              "ticks": ""
             }
            },
            "type": "scattermapbox"
           }
          ],
          "scatterpolar": [
           {
            "marker": {
             "colorbar": {
              "outlinewidth": 0,
              "ticks": ""
             }
            },
            "type": "scatterpolar"
           }
          ],
          "scatterpolargl": [
           {
            "marker": {
             "colorbar": {
              "outlinewidth": 0,
              "ticks": ""
             }
            },
            "type": "scatterpolargl"
           }
          ],
          "scatterternary": [
           {
            "marker": {
             "colorbar": {
              "outlinewidth": 0,
              "ticks": ""
             }
            },
            "type": "scatterternary"
           }
          ],
          "surface": [
           {
            "colorbar": {
             "outlinewidth": 0,
             "ticks": ""
            },
            "colorscale": [
             [
              0,
              "#0d0887"
             ],
             [
              0.1111111111111111,
              "#46039f"
             ],
             [
              0.2222222222222222,
              "#7201a8"
             ],
             [
              0.3333333333333333,
              "#9c179e"
             ],
             [
              0.4444444444444444,
              "#bd3786"
             ],
             [
              0.5555555555555556,
              "#d8576b"
             ],
             [
              0.6666666666666666,
              "#ed7953"
             ],
             [
              0.7777777777777778,
              "#fb9f3a"
             ],
             [
              0.8888888888888888,
              "#fdca26"
             ],
             [
              1,
              "#f0f921"
             ]
            ],
            "type": "surface"
           }
          ],
          "table": [
           {
            "cells": {
             "fill": {
              "color": "#EBF0F8"
             },
             "line": {
              "color": "white"
             }
            },
            "header": {
             "fill": {
              "color": "#C8D4E3"
             },
             "line": {
              "color": "white"
             }
            },
            "type": "table"
           }
          ]
         },
         "layout": {
          "annotationdefaults": {
           "arrowcolor": "#2a3f5f",
           "arrowhead": 0,
           "arrowwidth": 1
          },
          "autotypenumbers": "strict",
          "coloraxis": {
           "colorbar": {
            "outlinewidth": 0,
            "ticks": ""
           }
          },
          "colorscale": {
           "diverging": [
            [
             0,
             "#8e0152"
            ],
            [
             0.1,
             "#c51b7d"
            ],
            [
             0.2,
             "#de77ae"
            ],
            [
             0.3,
             "#f1b6da"
            ],
            [
             0.4,
             "#fde0ef"
            ],
            [
             0.5,
             "#f7f7f7"
            ],
            [
             0.6,
             "#e6f5d0"
            ],
            [
             0.7,
             "#b8e186"
            ],
            [
             0.8,
             "#7fbc41"
            ],
            [
             0.9,
             "#4d9221"
            ],
            [
             1,
             "#276419"
            ]
           ],
           "sequential": [
            [
             0,
             "#0d0887"
            ],
            [
             0.1111111111111111,
             "#46039f"
            ],
            [
             0.2222222222222222,
             "#7201a8"
            ],
            [
             0.3333333333333333,
             "#9c179e"
            ],
            [
             0.4444444444444444,
             "#bd3786"
            ],
            [
             0.5555555555555556,
             "#d8576b"
            ],
            [
             0.6666666666666666,
             "#ed7953"
            ],
            [
             0.7777777777777778,
             "#fb9f3a"
            ],
            [
             0.8888888888888888,
             "#fdca26"
            ],
            [
             1,
             "#f0f921"
            ]
           ],
           "sequentialminus": [
            [
             0,
             "#0d0887"
            ],
            [
             0.1111111111111111,
             "#46039f"
            ],
            [
             0.2222222222222222,
             "#7201a8"
            ],
            [
             0.3333333333333333,
             "#9c179e"
            ],
            [
             0.4444444444444444,
             "#bd3786"
            ],
            [
             0.5555555555555556,
             "#d8576b"
            ],
            [
             0.6666666666666666,
             "#ed7953"
            ],
            [
             0.7777777777777778,
             "#fb9f3a"
            ],
            [
             0.8888888888888888,
             "#fdca26"
            ],
            [
             1,
             "#f0f921"
            ]
           ]
          },
          "colorway": [
           "#636efa",
           "#EF553B",
           "#00cc96",
           "#ab63fa",
           "#FFA15A",
           "#19d3f3",
           "#FF6692",
           "#B6E880",
           "#FF97FF",
           "#FECB52"
          ],
          "font": {
           "color": "#2a3f5f"
          },
          "geo": {
           "bgcolor": "white",
           "lakecolor": "white",
           "landcolor": "white",
           "showlakes": true,
           "showland": true,
           "subunitcolor": "#C8D4E3"
          },
          "hoverlabel": {
           "align": "left"
          },
          "hovermode": "closest",
          "mapbox": {
           "style": "light"
          },
          "paper_bgcolor": "white",
          "plot_bgcolor": "white",
          "polar": {
           "angularaxis": {
            "gridcolor": "#EBF0F8",
            "linecolor": "#EBF0F8",
            "ticks": ""
           },
           "bgcolor": "white",
           "radialaxis": {
            "gridcolor": "#EBF0F8",
            "linecolor": "#EBF0F8",
            "ticks": ""
           }
          },
          "scene": {
           "xaxis": {
            "backgroundcolor": "white",
            "gridcolor": "#DFE8F3",
            "gridwidth": 2,
            "linecolor": "#EBF0F8",
            "showbackground": true,
            "ticks": "",
            "zerolinecolor": "#EBF0F8"
           },
           "yaxis": {
            "backgroundcolor": "white",
            "gridcolor": "#DFE8F3",
            "gridwidth": 2,
            "linecolor": "#EBF0F8",
            "showbackground": true,
            "ticks": "",
            "zerolinecolor": "#EBF0F8"
           },
           "zaxis": {
            "backgroundcolor": "white",
            "gridcolor": "#DFE8F3",
            "gridwidth": 2,
            "linecolor": "#EBF0F8",
            "showbackground": true,
            "ticks": "",
            "zerolinecolor": "#EBF0F8"
           }
          },
          "shapedefaults": {
           "line": {
            "color": "#2a3f5f"
           }
          },
          "ternary": {
           "aaxis": {
            "gridcolor": "#DFE8F3",
            "linecolor": "#A2B1C6",
            "ticks": ""
           },
           "baxis": {
            "gridcolor": "#DFE8F3",
            "linecolor": "#A2B1C6",
            "ticks": ""
           },
           "bgcolor": "white",
           "caxis": {
            "gridcolor": "#DFE8F3",
            "linecolor": "#A2B1C6",
            "ticks": ""
           }
          },
          "title": {
           "x": 0.05
          },
          "xaxis": {
           "automargin": true,
           "gridcolor": "#EBF0F8",
           "linecolor": "#EBF0F8",
           "ticks": "",
           "title": {
            "standoff": 15
           },
           "zerolinecolor": "#EBF0F8",
           "zerolinewidth": 2
          },
          "yaxis": {
           "automargin": true,
           "gridcolor": "#EBF0F8",
           "linecolor": "#EBF0F8",
           "ticks": "",
           "title": {
            "standoff": 15
           },
           "zerolinecolor": "#EBF0F8",
           "zerolinewidth": 2
          }
         }
        },
        "title": {
         "text": "Bénéfices par Mois et par Pays"
        },
        "width": 900,
        "xaxis": {
         "anchor": "y",
         "domain": [
          0,
          1
         ],
         "dtick": 1,
         "tick0": 1,
         "tickmode": "linear",
         "title": {
          "text": "Mois"
         }
        },
        "yaxis": {
         "anchor": "x",
         "domain": [
          0,
          1
         ],
         "title": {
          "text": "Bénéfices"
         }
        }
       }
      }
     },
     "metadata": {},
     "output_type": "display_data"
    }
   ],
   "source": [
    "\n",
    "\n",
    "# Assurez-vous que votre DataFrame contient les colonnes nécessaires : 'Month', 'Country', 'Benefice'\n",
    "\n",
    "# Calculer les bénéfices totaux par mois et par pays\n",
    "benefits_by_month_country = df.groupby(['Month', 'Country'])['Benefice'].sum().reset_index()\n",
    "\n",
    "# Créer un graphique de type courbe\n",
    "fig = px.line(\n",
    "    benefits_by_month_country,\n",
    "    x='Month',  # Axe horizontal : Mois\n",
    "    y='Benefice',  # Axe vertical : Bénéfices\n",
    "    color='Country',  # Différenciation par pays\n",
    "    title='Bénéfices par Mois et par Pays',\n",
    "    labels={'Benefice': 'Bénéfices', 'Month': 'Mois', 'Country': 'Pays'},\n",
    "    line_shape='linear',  # Forme des courbes\n",
    "    color_discrete_sequence=px.colors.qualitative.Set2  # Palette de couleurs\n",
    ")\n",
    "\n",
    "# Personnalisation de l'apparence\n",
    "fig.update_layout(\n",
    "    xaxis=dict(title='Mois', tickmode='linear', tick0=1, dtick=1),  # Mois affichés comme 1, 2, 3...\n",
    "    yaxis=dict(title='Bénéfices'),\n",
    "    legend_title='Pays',\n",
    "    template='plotly_white',  # Style épuré\n",
    "    height=600,  # Hauteur de la figure\n",
    "    width=900  # Largeur de la figure\n",
    ")\n",
    "\n",
    "# Afficher la figure\n",
    "fig.show()\n"
   ]
  },
  {
   "cell_type": "code",
   "execution_count": 29,
   "metadata": {},
   "outputs": [
    {
     "name": "stderr",
     "output_type": "stream",
     "text": [
      "C:\\Users\\karriah dini\\AppData\\Local\\Temp\\ipykernel_13624\\3851056498.py:6: FutureWarning:\n",
      "\n",
      "\n",
      "\n",
      "Passing `palette` without assigning `hue` is deprecated and will be removed in v0.14.0. Assign the `y` variable to `hue` and set `legend=False` for the same effect.\n",
      "\n",
      "\n"
     ]
    },
    {
     "data": {
      "image/png": "[encoded data removed]",
      "text/plain": [
       "<Figure size 1200x800 with 1 Axes>"
      ]
     },
     "metadata": {},
     "output_type": "display_data"
    }
   ],
   "source": [
    "\n",
    "# Agréger les données par sous-catégorie\n",
    "sub_cat_sales = df.groupby('Sub Category')['Quantity'].sum().sort_values(ascending=False)\n",
    "\n",
    "# Visualisation des sous-catégories les plus vendues\n",
    "plt.figure(figsize=(12, 8))\n",
    "sns.barplot(x=sub_cat_sales.values, y=sub_cat_sales.index, palette='viridis')\n",
    "\n",
    "# Titres et étiquettes\n",
    "plt.title('Sous-catégories les plus vendues (Quantité)', fontsize=16)\n",
    "plt.xlabel('Quantité totale vendue', fontsize=12)\n",
    "plt.ylabel('Sous-catégories', fontsize=12)\n",
    "\n",
    "plt.show()\n"
   ]
  },
  {
   "cell_type": "code",
   "execution_count": null,
   "metadata": {},
   "outputs": [],
   "source": []
  },
  {
   "cell_type": "code",
   "execution_count": 30,
   "metadata": {},
   "outputs": [
    {
     "data": {
      "image/png": "[encoded data removed]",
      "text/plain": [
       "<Figure size 1200x600 with 1 Axes>"
      ]
     },
     "metadata": {},
     "output_type": "display_data"
    }
   ],
   "source": [
    "# Filtrer les données pour ne conserver que le premier semestre (semestre == 1) et les années spécifiques\n",
    "df_first_semester = df[(df['Semestre'] == 1) & (df['Year'].isin([2015, 2016]))]\n",
    "\n",
    "# Créer un dictionnaire pour mapper les mois en noms\n",
    "mois_mapping = {\n",
    "    1: 'Janvier', 2: 'Février', 3: 'Mars', 4: 'Avril',\n",
    "    5: 'Mai', 6: 'Juin', 7: 'Juillet', 8: 'Août',\n",
    "    9: 'Septembre', 10: 'Octobre', 11: 'Novembre', 12: 'Décembre'\n",
    "}\n",
    "\n",
    "# Regrouper par année et mois, puis calculer la quantité totale vendue\n",
    "monthly_sales = df_first_semester.groupby(['Year', 'Month'])['Quantity'].sum()\n",
    "\n",
    "\n",
    "\n",
    "# Visualisation des ventes mensuelles pour le premier semestre\n",
    "plt.figure(figsize=(12, 6))\n",
    "sns.barplot(x=monthly_sales.index.get_level_values(1), \n",
    "            y=monthly_sales.values, \n",
    "            hue=monthly_sales.index.get_level_values(0), palette='coolwarm')\n",
    "\n",
    "# Titres et étiquettes\n",
    "plt.title('Quantité totale vendue par mois (Premier Semestre) pour 2015 et 2016', fontsize=16)\n",
    "plt.xlabel('Mois', fontsize=12)\n",
    "plt.ylabel('Quantité vendue', fontsize=12)\n",
    "\n",
    "# Rotation des étiquettes des mois pour une meilleure lisibilité\n",
    "plt.xticks(rotation=45)  \n",
    "plt.show()\n"
   ]
  }
 ],
 "metadata": {
  "kernelspec": {
   "display_name": "Python 3",
   "language": "python",
   "name": "python3"
  },
  "language_info": {
   "codemirror_mode": {
    "name": "ipython",
    "version": 3
   },
   "file_extension": ".py",
   "mimetype": "text/x-python",
   "name": "python",
   "nbconvert_exporter": "python",
   "pygments_lexer": "ipython3",
   "version": "3.13.0"
  }
 },
 "nbformat": 4,
 "nbformat_minor": 2
}
